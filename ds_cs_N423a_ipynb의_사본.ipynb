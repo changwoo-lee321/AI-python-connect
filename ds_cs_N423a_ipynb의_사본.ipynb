{
  "nbformat": 4,
  "nbformat_minor": 0,
  "metadata": {
    "colab": {
      "name": "ds-cs-N423a.ipynb의 사본",
      "provenance": [],
      "collapsed_sections": [],
      "toc_visible": true,
      "machine_shape": "hm",
      "include_colab_link": true
    },
    "kernelspec": {
      "display_name": "Python 3",
      "language": "python",
      "name": "python3"
    },
    "language_info": {
      "codemirror_mode": {
        "name": "ipython",
        "version": 3
      },
      "file_extension": ".py",
      "mimetype": "text/x-python",
      "name": "python",
      "nbconvert_exporter": "python",
      "pygments_lexer": "ipython3",
      "version": "3.7.3"
    },
    "accelerator": "GPU"
  },
  "cells": [
    {
      "cell_type": "markdown",
      "metadata": {
        "id": "view-in-github",
        "colab_type": "text"
      },
      "source": [
        "<a href=\"https://colab.research.google.com/github/MINED30/AI-python-connect/blob/master/ds_cs_N423a_ipynb%EC%9D%98_%EC%82%AC%EB%B3%B8.ipynb\" target=\"_parent\"><img src=\"https://colab.research.google.com/assets/colab-badge.svg\" alt=\"Open In Colab\"/></a>"
      ]
    },
    {
      "cell_type": "markdown",
      "metadata": {
        "id": "pBQsZEJmubLs"
      },
      "source": [
        "<img src='https://user-images.githubusercontent.com/6457691/90080969-0f758d00-dd47-11ea-8191-fa12fd2054a7.png' width = '200' align = 'right'>\n",
        "\n",
        "## *DATA SCIENCE / SECTION 4 / SPRINT 1 / Assingment 3*\n",
        "\n",
        "---\n",
        "# Neural Network Framework (Keras)\n",
        "\n"
      ]
    },
    {
      "cell_type": "markdown",
      "metadata": {
        "id": "nN5Wzlub62DZ"
      },
      "source": [
        "\n",
        "## 기본과제\n",
        "### 케라스 라이브러리를 사용하여 Multi-Layer Perceptron 모델을 CIFAR100 데이터에 적용해보세요.\n",
        "\n",
        "- 시드를 고정하십시오.\n",
        "- 데이터를 Noramlized 해줍니다. \n",
        "- 케라스에서 모델은 다음과 같이 고정합니다. \n",
        "- 활성함수는 ReLU를 사용합니다.\n",
        "- 단계별로 오늘 배운 규제방법을 적용해봅니다. \n",
        "\n",
        "\n",
        "### 문제에 기록된 텍스트를 꼭! 잘 읽어보고 답변을 다셔야 합니다."
      ]
    },
    {
      "cell_type": "code",
      "metadata": {
        "id": "SBPLbaggP52G"
      },
      "source": [
        "##### Base #####\n",
        "\n",
        "import keras\n",
        "import tensorflow as tf\n",
        "import numpy as np\n",
        "from tensorflow.keras.datasets import cifar100\n",
        "from tensorflow.keras.models import Sequential\n",
        "from tensorflow.keras.layers import Dense, Flatten, BatchNormalization\n",
        "from tensorflow.keras.optimizers import Adam, SGD\n",
        "from tensorflow.keras import regularizers\n",
        "from tensorflow.keras.applications import ResNet50\n",
        "\n",
        "# 데이터 불러오기\n",
        "np.random.seed(1)\n",
        "tf.random.set_seed(1)\n",
        "(X_train, y_train), (X_test, y_test) = cifar100.load_data()\n",
        "X_train = X_train / 255.\n",
        "X_test = X_test / 255."
      ],
      "execution_count": 1,
      "outputs": []
    },
    {
      "cell_type": "markdown",
      "metadata": {
        "id": "9kAKEMcKdpsC"
      },
      "source": [
        "## 1) X_train, y_train의 Data형태를 출력해서 matrix 구조 [N, x, y, c]를 확인하고 입력해보세요.\n",
        "\n",
        "### 문항 1-1). 데이터의 구조를 출력하기 위한 코드를 입력하세요.\n",
        "\n",
        "### 문항 1-2). Flatten(input_shape=()) 에 들어갈 데이터 형태를 입력하세요."
      ]
    },
    {
      "cell_type": "code",
      "metadata": {
        "id": "v0r1YrzRNG1y",
        "colab": {
          "base_uri": "https://localhost:8080/"
        },
        "outputId": "b1135dd7-07df-4628-82b2-d23a59378cd3"
      },
      "source": [
        "##### Your Code Here #####\n",
        "[X_train.shape,y_train.shape]"
      ],
      "execution_count": 2,
      "outputs": [
        {
          "output_type": "execute_result",
          "data": {
            "text/plain": [
              "[(50000, 32, 32, 3), (50000, 1)]"
            ]
          },
          "metadata": {
            "tags": []
          },
          "execution_count": 2
        }
      ]
    },
    {
      "cell_type": "markdown",
      "metadata": {
        "id": "I7nHEuYmd-p6"
      },
      "source": [
        "Base model을 제작합니다."
      ]
    },
    {
      "cell_type": "code",
      "metadata": {
        "id": "_T_3XkVRY2xw",
        "colab": {
          "base_uri": "https://localhost:8080/"
        },
        "outputId": "66eb7e80-bfec-45cc-8fb2-d8dc04fd7736"
      },
      "source": [
        "# Step 1. Basic Model\n",
        "\n",
        "# 변수 설정을 따로 하는 방법을 적용하기 위한 코드입니다. \n",
        "batch_size = 100\n",
        "epochs_max = 20\n",
        "\n",
        "# model\n",
        "model = Sequential()\n",
        "model.add(Flatten(input_shape=(32, 32, 3))) ## 문제 1의 데이터구조에서 확인한 내용을 잘 입력하세요\n",
        "model.add(Dense(128, activation='relu'))\n",
        "model.add(Dense(128, activation='relu'))\n",
        "model.add(Dense(100, activation='softmax'))\n",
        "\n",
        "# 컴파일 단계, 옵티마이저와 손실함수, 측정지표를 연결해서 계산 그래프를 구성함\n",
        "model.compile(optimizer='adam', loss='sparse_categorical_crossentropy', metrics=['accuracy'])\n",
        "\n",
        "results = model.fit(X_train, y_train, epochs=epochs_max, batch_size=batch_size, verbose=1, validation_data=(X_test,y_test))"
      ],
      "execution_count": 3,
      "outputs": [
        {
          "output_type": "stream",
          "text": [
            "Epoch 1/20\n",
            "500/500 [==============================] - 2s 3ms/step - loss: 4.3548 - accuracy: 0.0441 - val_loss: 3.8663 - val_accuracy: 0.1067\n",
            "Epoch 2/20\n",
            "500/500 [==============================] - 1s 3ms/step - loss: 3.7917 - accuracy: 0.1173 - val_loss: 3.7211 - val_accuracy: 0.1336\n",
            "Epoch 3/20\n",
            "500/500 [==============================] - 1s 3ms/step - loss: 3.6517 - accuracy: 0.1408 - val_loss: 3.6870 - val_accuracy: 0.1447\n",
            "Epoch 4/20\n",
            "500/500 [==============================] - 1s 2ms/step - loss: 3.5702 - accuracy: 0.1534 - val_loss: 3.6012 - val_accuracy: 0.1572\n",
            "Epoch 5/20\n",
            "500/500 [==============================] - 1s 3ms/step - loss: 3.5057 - accuracy: 0.1701 - val_loss: 3.5252 - val_accuracy: 0.1685\n",
            "Epoch 6/20\n",
            "500/500 [==============================] - 1s 3ms/step - loss: 3.4211 - accuracy: 0.1817 - val_loss: 3.5043 - val_accuracy: 0.1731\n",
            "Epoch 7/20\n",
            "500/500 [==============================] - 1s 3ms/step - loss: 3.4013 - accuracy: 0.1871 - val_loss: 3.4831 - val_accuracy: 0.1788\n",
            "Epoch 8/20\n",
            "500/500 [==============================] - 1s 2ms/step - loss: 3.3565 - accuracy: 0.1922 - val_loss: 3.4569 - val_accuracy: 0.1882\n",
            "Epoch 9/20\n",
            "500/500 [==============================] - 1s 3ms/step - loss: 3.3335 - accuracy: 0.1986 - val_loss: 3.4624 - val_accuracy: 0.1861\n",
            "Epoch 10/20\n",
            "500/500 [==============================] - 1s 3ms/step - loss: 3.3087 - accuracy: 0.2014 - val_loss: 3.3963 - val_accuracy: 0.1961\n",
            "Epoch 11/20\n",
            "500/500 [==============================] - 1s 3ms/step - loss: 3.2815 - accuracy: 0.2064 - val_loss: 3.3819 - val_accuracy: 0.1989\n",
            "Epoch 12/20\n",
            "500/500 [==============================] - 1s 3ms/step - loss: 3.2345 - accuracy: 0.2127 - val_loss: 3.3897 - val_accuracy: 0.1970\n",
            "Epoch 13/20\n",
            "500/500 [==============================] - 1s 3ms/step - loss: 3.2420 - accuracy: 0.2153 - val_loss: 3.3889 - val_accuracy: 0.1954\n",
            "Epoch 14/20\n",
            "500/500 [==============================] - 1s 3ms/step - loss: 3.2088 - accuracy: 0.2194 - val_loss: 3.3779 - val_accuracy: 0.2041\n",
            "Epoch 15/20\n",
            "500/500 [==============================] - 1s 3ms/step - loss: 3.1971 - accuracy: 0.2238 - val_loss: 3.3573 - val_accuracy: 0.2086\n",
            "Epoch 16/20\n",
            "500/500 [==============================] - 1s 3ms/step - loss: 3.1707 - accuracy: 0.2255 - val_loss: 3.3789 - val_accuracy: 0.2012\n",
            "Epoch 17/20\n",
            "500/500 [==============================] - 1s 3ms/step - loss: 3.1690 - accuracy: 0.2288 - val_loss: 3.3464 - val_accuracy: 0.2086\n",
            "Epoch 18/20\n",
            "500/500 [==============================] - 1s 3ms/step - loss: 3.1626 - accuracy: 0.2282 - val_loss: 3.3346 - val_accuracy: 0.2128\n",
            "Epoch 19/20\n",
            "500/500 [==============================] - 1s 3ms/step - loss: 3.1408 - accuracy: 0.2296 - val_loss: 3.3307 - val_accuracy: 0.2131\n",
            "Epoch 20/20\n",
            "500/500 [==============================] - 1s 3ms/step - loss: 3.1216 - accuracy: 0.2323 - val_loss: 3.3584 - val_accuracy: 0.2054\n"
          ],
          "name": "stdout"
        }
      ]
    },
    {
      "cell_type": "code",
      "metadata": {
        "id": "PdxJ5AnieUxI",
        "colab": {
          "base_uri": "https://localhost:8080/"
        },
        "outputId": "ad29e5e0-41bc-4681-bf34-2f5b4f0f0245"
      },
      "source": [
        "model.predict(X_test[0:1])\n",
        "test_loss, test_acc = model.evaluate(X_test,  y_test, verbose=1)"
      ],
      "execution_count": 14,
      "outputs": [
        {
          "output_type": "stream",
          "text": [
            "313/313 [==============================] - 1s 2ms/step - loss: 3.3342 - accuracy: 0.2108\n"
          ],
          "name": "stdout"
        }
      ]
    },
    {
      "cell_type": "markdown",
      "metadata": {
        "id": "fbNCUtz4eHIi"
      },
      "source": [
        "## 2) 최종 모델에서 model.evaluate을 통해서 결과를 출력해보세요.  \n",
        "### 문항 2-1). verbose=0 으로 입력해서 출력되는 accuracy를 입력하세요.\n",
        "### 문항 2-2). verbose=1 으로 입력해서 출력되는 accuracy를 입력하세요. <Br>\n",
        "(차이점을 아시겠나요? 차이점을 모른다면 검색해보세요. 정답에 공백을 입력할 수 있어야 합니다.)\n",
        "\n"
      ]
    },
    {
      "cell_type": "code",
      "metadata": {
        "id": "XBQks0_rZWa9"
      },
      "source": [
        "# Step 2. Basic Model + Weight Decay\n",
        "\n",
        "# 변수 설정을 따로 하는 방법을 적용하기 위한 코드입니다. \n",
        "batch_size = 100\n",
        "epochs_max = 20\n",
        "\n",
        "# model\n",
        "model = Sequential()\n",
        "model.add(Flatten(input_shape=(X_train.shape[1:])))\n",
        "model.add(Dense(128, activation='relu', \n",
        "                kernel_regularizer=regularizers.l2(0.00001),    # L2 norm regularization\n",
        "                activity_regularizer=regularizers.l1(0.00001) )) # L1 norm regularization\n",
        "model.add(Dense(128, activation='relu'))\n",
        "model.add(Dense(100, activation='softmax'))\n",
        "\n",
        "# 컴파일 단계, 옵티마이저와 손실함수, 측정지표를 연결해서 계산 그래프를 구성함\n",
        "model.compile(optimizer='adam', loss='sparse_categorical_crossentropy', metrics=['accuracy'])\n",
        "\n",
        "results = model.fit(X_train, y_train, epochs=epochs_max, batch_size=batch_size, verbose=0, validation_data=(X_test,y_test))"
      ],
      "execution_count": 4,
      "outputs": []
    },
    {
      "cell_type": "code",
      "metadata": {
        "colab": {
          "base_uri": "https://localhost:8080/"
        },
        "id": "wDIpV6fD3Ghy",
        "outputId": "05c84d72-4077-4a25-de29-0467237faa01"
      },
      "source": [
        "model.evaluate(X_test,  y_test, verbose=1)"
      ],
      "execution_count": 5,
      "outputs": [
        {
          "output_type": "stream",
          "text": [
            "313/313 [==============================] - 1s 2ms/step - loss: 3.3926 - accuracy: 0.2000\n"
          ],
          "name": "stdout"
        },
        {
          "output_type": "execute_result",
          "data": {
            "text/plain": [
              "[3.392564058303833, 0.20000000298023224]"
            ]
          },
          "metadata": {
            "tags": []
          },
          "execution_count": 5
        }
      ]
    },
    {
      "cell_type": "code",
      "metadata": {
        "colab": {
          "base_uri": "https://localhost:8080/"
        },
        "id": "M-dlVgoo3pY_",
        "outputId": "24883cc7-fe15-4a1b-a1ef-59bbe68bef08"
      },
      "source": [
        "model.evaluate(X_test,  y_test, verbose=0)"
      ],
      "execution_count": 6,
      "outputs": [
        {
          "output_type": "execute_result",
          "data": {
            "text/plain": [
              "[3.392564058303833, 0.20000000298023224]"
            ]
          },
          "metadata": {
            "tags": []
          },
          "execution_count": 6
        }
      ]
    },
    {
      "cell_type": "markdown",
      "metadata": {
        "id": "5yQeUcY8fp4x"
      },
      "source": [
        "## 3) Dropout을 사용하기 위해서는 라이브러리 추가로 불어와야 합니다. \n",
        "\n",
        "### 문항 3) Dropout의 라이브러리를 호출하기 위해서 사용한 import 문구를 적어주세요."
      ]
    },
    {
      "cell_type": "code",
      "metadata": {
        "id": "e_B_mosCZ_Ds",
        "colab": {
          "base_uri": "https://localhost:8080/"
        },
        "outputId": "c9b1c71e-c459-44ca-ae86-eadb3b9933e6"
      },
      "source": [
        "# Step 3. Basic Model + Dropout\n",
        "\n",
        "from tensorflow.keras.layers import Dropout\n",
        "\n",
        "# 변수 설정을 따로 하는 방법을 적용하기 위한 코드입니다. \n",
        "batch_size = 100\n",
        "epochs_max = 20\n",
        "\n",
        "# model\n",
        "model = Sequential()\n",
        "model.add(Flatten(input_shape=(X_train.shape[1:])))\n",
        "model.add(Dense(128*1.1, activation='relu'))\n",
        "model.add(Dropout(0.1))\n",
        "model.add(Dense(128, activation='relu'))\n",
        "model.add(Dense(100, activation='softmax'))\n",
        "\n",
        "# 컴파일 단계, 옵티마이저와 손실함수, 측정지표를 연결해서 계산 그래프를 구성함\n",
        "model.compile(optimizer='adam', loss='sparse_categorical_crossentropy', metrics=['accuracy'])\n",
        "\n",
        "results = model.fit(X_train, y_train, epochs=epochs_max, batch_size=batch_size, verbose=1, validation_data=(X_test,y_test))"
      ],
      "execution_count": 7,
      "outputs": [
        {
          "output_type": "stream",
          "text": [
            "Epoch 1/20\n",
            "500/500 [==============================] - 2s 3ms/step - loss: 4.4480 - accuracy: 0.0311 - val_loss: 3.9934 - val_accuracy: 0.0775\n",
            "Epoch 2/20\n",
            "500/500 [==============================] - 1s 3ms/step - loss: 4.0173 - accuracy: 0.0779 - val_loss: 3.8617 - val_accuracy: 0.1121\n",
            "Epoch 3/20\n",
            "500/500 [==============================] - 1s 3ms/step - loss: 3.9137 - accuracy: 0.0949 - val_loss: 3.7819 - val_accuracy: 0.1267\n",
            "Epoch 4/20\n",
            "500/500 [==============================] - 1s 3ms/step - loss: 3.8587 - accuracy: 0.1047 - val_loss: 3.7475 - val_accuracy: 0.1231\n",
            "Epoch 5/20\n",
            "500/500 [==============================] - 1s 3ms/step - loss: 3.8170 - accuracy: 0.1130 - val_loss: 3.6885 - val_accuracy: 0.1361\n",
            "Epoch 6/20\n",
            "500/500 [==============================] - 1s 3ms/step - loss: 3.7615 - accuracy: 0.1225 - val_loss: 3.6834 - val_accuracy: 0.1377\n",
            "Epoch 7/20\n",
            "500/500 [==============================] - 1s 3ms/step - loss: 3.7366 - accuracy: 0.1243 - val_loss: 3.6403 - val_accuracy: 0.1445\n",
            "Epoch 8/20\n",
            "500/500 [==============================] - 1s 3ms/step - loss: 3.7213 - accuracy: 0.1242 - val_loss: 3.6599 - val_accuracy: 0.1425\n",
            "Epoch 9/20\n",
            "500/500 [==============================] - 1s 3ms/step - loss: 3.7006 - accuracy: 0.1296 - val_loss: 3.6152 - val_accuracy: 0.1519\n",
            "Epoch 10/20\n",
            "500/500 [==============================] - 1s 3ms/step - loss: 3.6879 - accuracy: 0.1314 - val_loss: 3.6185 - val_accuracy: 0.1490\n",
            "Epoch 11/20\n",
            "500/500 [==============================] - 1s 3ms/step - loss: 3.6687 - accuracy: 0.1337 - val_loss: 3.5918 - val_accuracy: 0.1559\n",
            "Epoch 12/20\n",
            "500/500 [==============================] - 1s 3ms/step - loss: 3.6469 - accuracy: 0.1385 - val_loss: 3.5835 - val_accuracy: 0.1589\n",
            "Epoch 13/20\n",
            "500/500 [==============================] - 1s 3ms/step - loss: 3.6482 - accuracy: 0.1369 - val_loss: 3.5845 - val_accuracy: 0.1595\n",
            "Epoch 14/20\n",
            "500/500 [==============================] - 1s 3ms/step - loss: 3.6371 - accuracy: 0.1372 - val_loss: 3.5828 - val_accuracy: 0.1548\n",
            "Epoch 15/20\n",
            "500/500 [==============================] - 1s 3ms/step - loss: 3.6248 - accuracy: 0.1454 - val_loss: 3.5555 - val_accuracy: 0.1572\n",
            "Epoch 16/20\n",
            "500/500 [==============================] - 1s 3ms/step - loss: 3.6140 - accuracy: 0.1424 - val_loss: 3.5685 - val_accuracy: 0.1587\n",
            "Epoch 17/20\n",
            "500/500 [==============================] - 1s 3ms/step - loss: 3.6002 - accuracy: 0.1445 - val_loss: 3.5429 - val_accuracy: 0.1661\n",
            "Epoch 18/20\n",
            "500/500 [==============================] - 1s 3ms/step - loss: 3.6070 - accuracy: 0.1419 - val_loss: 3.5448 - val_accuracy: 0.1644\n",
            "Epoch 19/20\n",
            "500/500 [==============================] - 1s 3ms/step - loss: 3.5873 - accuracy: 0.1477 - val_loss: 3.5327 - val_accuracy: 0.1672\n",
            "Epoch 20/20\n",
            "500/500 [==============================] - 1s 3ms/step - loss: 3.5814 - accuracy: 0.1493 - val_loss: 3.5331 - val_accuracy: 0.1658\n"
          ],
          "name": "stdout"
        }
      ]
    },
    {
      "cell_type": "markdown",
      "metadata": {
        "id": "Q3RoevKkC27v"
      },
      "source": [
        "### 문항 4) Early Stopping을 사용할 수 있도록 강의자료에서 코드를 잘 발췌해서 사용하시고, 50개의 Epoch를 돌렸을 때 Stop된 epoch 숫자를 입력하세요"
      ]
    },
    {
      "cell_type": "code",
      "metadata": {
        "id": "jjj4th3oLjgu",
        "colab": {
          "base_uri": "https://localhost:8080/"
        },
        "outputId": "e6934ab1-93a5-4060-8396-53b3b8ad9c3d"
      },
      "source": [
        "# Step 4. Basic Model + Early Stopping\n",
        "\n",
        "# 학습시킨 데이터를 저장시키기 위한 코드입니다. \n",
        "checkpoint_filepath = \"FMbest.hdf5\"\n",
        "\n",
        "model = Sequential()\n",
        "model.add(Flatten(input_shape=(X_train.shape[1:])))\n",
        "model.add(Dense(128, activation='relu'))\n",
        "model.add(Dense(128, activation='relu'))\n",
        "model.add(Dense(100, activation='softmax'))\n",
        "\n",
        "# 컴파일 단계, 옵티마이저와 손실함수, 측정지표를 연결해서 계산 그래프를 구성함\n",
        "model.compile(optimizer='adam', loss='sparse_categorical_crossentropy', metrics=['accuracy'])\n",
        "\n",
        "\n",
        "# early stopping\n",
        "early_stop = keras.callbacks.EarlyStopping(monitor='val_loss', min_delta=0, patience=10, verbose=1)\n",
        "# Validation Set을 기준으로 가장 최적의 모델을 찾기\n",
        "save_best = keras.callbacks.ModelCheckpoint(\n",
        "    filepath=checkpoint_filepath, monitor='val_loss', verbose=1, save_best_only=True,\n",
        "    save_weights_only=True, mode='auto', save_freq='epoch', options=None)\n",
        "\n",
        "model.fit(X_train, y_train, batch_size=batch_size, epochs=50, verbose=1, \n",
        "          validation_data=(X_test,y_test), \n",
        "          callbacks=[early_stop, save_best])"
      ],
      "execution_count": 9,
      "outputs": [
        {
          "output_type": "stream",
          "text": [
            "Epoch 1/50\n",
            "500/500 [==============================] - 2s 3ms/step - loss: 4.3196 - accuracy: 0.0454 - val_loss: 3.8364 - val_accuracy: 0.1100\n",
            "\n",
            "Epoch 00001: val_loss improved from inf to 3.83637, saving model to FMbest.hdf5\n",
            "Epoch 2/50\n",
            "500/500 [==============================] - 1s 3ms/step - loss: 3.7895 - accuracy: 0.1169 - val_loss: 3.7194 - val_accuracy: 0.1331\n",
            "\n",
            "Epoch 00002: val_loss improved from 3.83637 to 3.71943, saving model to FMbest.hdf5\n",
            "Epoch 3/50\n",
            "500/500 [==============================] - 1s 3ms/step - loss: 3.6419 - accuracy: 0.1452 - val_loss: 3.6360 - val_accuracy: 0.1481\n",
            "\n",
            "Epoch 00003: val_loss improved from 3.71943 to 3.63604, saving model to FMbest.hdf5\n",
            "Epoch 4/50\n",
            "500/500 [==============================] - 1s 3ms/step - loss: 3.5510 - accuracy: 0.1589 - val_loss: 3.5606 - val_accuracy: 0.1633\n",
            "\n",
            "Epoch 00004: val_loss improved from 3.63604 to 3.56062, saving model to FMbest.hdf5\n",
            "Epoch 5/50\n",
            "500/500 [==============================] - 1s 2ms/step - loss: 3.4674 - accuracy: 0.1763 - val_loss: 3.5061 - val_accuracy: 0.1758\n",
            "\n",
            "Epoch 00005: val_loss improved from 3.56062 to 3.50609, saving model to FMbest.hdf5\n",
            "Epoch 6/50\n",
            "500/500 [==============================] - 1s 3ms/step - loss: 3.3848 - accuracy: 0.1882 - val_loss: 3.4660 - val_accuracy: 0.1849\n",
            "\n",
            "Epoch 00006: val_loss improved from 3.50609 to 3.46601, saving model to FMbest.hdf5\n",
            "Epoch 7/50\n",
            "500/500 [==============================] - 1s 2ms/step - loss: 3.3514 - accuracy: 0.1952 - val_loss: 3.4567 - val_accuracy: 0.1879\n",
            "\n",
            "Epoch 00007: val_loss improved from 3.46601 to 3.45674, saving model to FMbest.hdf5\n",
            "Epoch 8/50\n",
            "500/500 [==============================] - 1s 3ms/step - loss: 3.3064 - accuracy: 0.2035 - val_loss: 3.4169 - val_accuracy: 0.1914\n",
            "\n",
            "Epoch 00008: val_loss improved from 3.45674 to 3.41691, saving model to FMbest.hdf5\n",
            "Epoch 9/50\n",
            "500/500 [==============================] - 1s 3ms/step - loss: 3.2762 - accuracy: 0.2106 - val_loss: 3.4406 - val_accuracy: 0.1856\n",
            "\n",
            "Epoch 00009: val_loss did not improve from 3.41691\n",
            "Epoch 10/50\n",
            "500/500 [==============================] - 1s 3ms/step - loss: 3.2541 - accuracy: 0.2156 - val_loss: 3.3670 - val_accuracy: 0.1998\n",
            "\n",
            "Epoch 00010: val_loss improved from 3.41691 to 3.36704, saving model to FMbest.hdf5\n",
            "Epoch 11/50\n",
            "500/500 [==============================] - 1s 3ms/step - loss: 3.2246 - accuracy: 0.2176 - val_loss: 3.3703 - val_accuracy: 0.2034\n",
            "\n",
            "Epoch 00011: val_loss did not improve from 3.36704\n",
            "Epoch 12/50\n",
            "500/500 [==============================] - 1s 3ms/step - loss: 3.1852 - accuracy: 0.2257 - val_loss: 3.3318 - val_accuracy: 0.2106\n",
            "\n",
            "Epoch 00012: val_loss improved from 3.36704 to 3.33183, saving model to FMbest.hdf5\n",
            "Epoch 13/50\n",
            "500/500 [==============================] - 1s 3ms/step - loss: 3.1799 - accuracy: 0.2283 - val_loss: 3.3339 - val_accuracy: 0.2107\n",
            "\n",
            "Epoch 00013: val_loss did not improve from 3.33183\n",
            "Epoch 14/50\n",
            "500/500 [==============================] - 1s 3ms/step - loss: 3.1468 - accuracy: 0.2310 - val_loss: 3.3119 - val_accuracy: 0.2141\n",
            "\n",
            "Epoch 00014: val_loss improved from 3.33183 to 3.31189, saving model to FMbest.hdf5\n",
            "Epoch 15/50\n",
            "500/500 [==============================] - 1s 3ms/step - loss: 3.1426 - accuracy: 0.2351 - val_loss: 3.3317 - val_accuracy: 0.2124\n",
            "\n",
            "Epoch 00015: val_loss did not improve from 3.31189\n",
            "Epoch 16/50\n",
            "500/500 [==============================] - 1s 2ms/step - loss: 3.1252 - accuracy: 0.2356 - val_loss: 3.3429 - val_accuracy: 0.2097\n",
            "\n",
            "Epoch 00016: val_loss did not improve from 3.31189\n",
            "Epoch 17/50\n",
            "500/500 [==============================] - 1s 3ms/step - loss: 3.1154 - accuracy: 0.2392 - val_loss: 3.3547 - val_accuracy: 0.2135\n",
            "\n",
            "Epoch 00017: val_loss did not improve from 3.31189\n",
            "Epoch 18/50\n",
            "500/500 [==============================] - 1s 3ms/step - loss: 3.1135 - accuracy: 0.2394 - val_loss: 3.3041 - val_accuracy: 0.2179\n",
            "\n",
            "Epoch 00018: val_loss improved from 3.31189 to 3.30411, saving model to FMbest.hdf5\n",
            "Epoch 19/50\n",
            "500/500 [==============================] - 1s 3ms/step - loss: 3.0745 - accuracy: 0.2467 - val_loss: 3.3472 - val_accuracy: 0.2098\n",
            "\n",
            "Epoch 00019: val_loss did not improve from 3.30411\n",
            "Epoch 20/50\n",
            "500/500 [==============================] - 1s 3ms/step - loss: 3.0717 - accuracy: 0.2464 - val_loss: 3.3364 - val_accuracy: 0.2108\n",
            "\n",
            "Epoch 00020: val_loss did not improve from 3.30411\n",
            "Epoch 21/50\n",
            "500/500 [==============================] - 1s 2ms/step - loss: 3.0842 - accuracy: 0.2433 - val_loss: 3.3398 - val_accuracy: 0.2075\n",
            "\n",
            "Epoch 00021: val_loss did not improve from 3.30411\n",
            "Epoch 22/50\n",
            "500/500 [==============================] - 1s 3ms/step - loss: 3.0631 - accuracy: 0.2458 - val_loss: 3.3392 - val_accuracy: 0.2093\n",
            "\n",
            "Epoch 00022: val_loss did not improve from 3.30411\n",
            "Epoch 23/50\n",
            "500/500 [==============================] - 1s 3ms/step - loss: 3.0422 - accuracy: 0.2525 - val_loss: 3.3204 - val_accuracy: 0.2189\n",
            "\n",
            "Epoch 00023: val_loss did not improve from 3.30411\n",
            "Epoch 24/50\n",
            "500/500 [==============================] - 1s 3ms/step - loss: 3.0316 - accuracy: 0.2540 - val_loss: 3.3093 - val_accuracy: 0.2157\n",
            "\n",
            "Epoch 00024: val_loss did not improve from 3.30411\n",
            "Epoch 25/50\n",
            "500/500 [==============================] - 1s 3ms/step - loss: 3.0467 - accuracy: 0.2515 - val_loss: 3.3058 - val_accuracy: 0.2200\n",
            "\n",
            "Epoch 00025: val_loss did not improve from 3.30411\n",
            "Epoch 26/50\n",
            "500/500 [==============================] - 1s 3ms/step - loss: 3.0150 - accuracy: 0.2565 - val_loss: 3.3183 - val_accuracy: 0.2188\n",
            "\n",
            "Epoch 00026: val_loss did not improve from 3.30411\n",
            "Epoch 27/50\n",
            "500/500 [==============================] - 1s 3ms/step - loss: 3.0188 - accuracy: 0.2559 - val_loss: 3.3275 - val_accuracy: 0.2140\n",
            "\n",
            "Epoch 00027: val_loss did not improve from 3.30411\n",
            "Epoch 28/50\n",
            "500/500 [==============================] - 1s 3ms/step - loss: 2.9972 - accuracy: 0.2572 - val_loss: 3.3186 - val_accuracy: 0.2196\n",
            "\n",
            "Epoch 00028: val_loss did not improve from 3.30411\n",
            "Epoch 00028: early stopping\n"
          ],
          "name": "stdout"
        },
        {
          "output_type": "execute_result",
          "data": {
            "text/plain": [
              "<tensorflow.python.keras.callbacks.History at 0x7f678ab87690>"
            ]
          },
          "metadata": {
            "tags": []
          },
          "execution_count": 9
        }
      ]
    },
    {
      "cell_type": "code",
      "metadata": {
        "id": "Bk3GSXbfUI91",
        "colab": {
          "base_uri": "https://localhost:8080/"
        },
        "outputId": "40cbd1b0-fff4-4a8e-b0e6-489324f9e4f5"
      },
      "source": [
        "# 학습된 모델을 이용하여 테스트하는 코드\n",
        "\n",
        "model.predict(X_test[0:1])\n",
        "test_loss, test_acc = model.evaluate(X_test,  y_test, verbose=1)"
      ],
      "execution_count": 10,
      "outputs": [
        {
          "output_type": "stream",
          "text": [
            "313/313 [==============================] - 1s 2ms/step - loss: 3.3186 - accuracy: 0.2196\n"
          ],
          "name": "stdout"
        }
      ]
    },
    {
      "cell_type": "code",
      "metadata": {
        "id": "Nyz7CrMIUNJX",
        "colab": {
          "base_uri": "https://localhost:8080/"
        },
        "outputId": "f33900bb-1dcc-4d95-d9e2-d29a32d4dca4"
      },
      "source": [
        "model.load_weights(checkpoint_filepath)\n",
        "# best model을 이용한 테스트 데이터 예측 정확도 재확인 코드\n",
        "\n",
        "model.predict(X_test[0:1])\n",
        "test_loss, test_acc = model.evaluate(X_test,  y_test, verbose=1)"
      ],
      "execution_count": 11,
      "outputs": [
        {
          "output_type": "stream",
          "text": [
            "313/313 [==============================] - 1s 2ms/step - loss: 3.3041 - accuracy: 0.2179\n"
          ],
          "name": "stdout"
        }
      ]
    },
    {
      "cell_type": "markdown",
      "metadata": {
        "id": "zv_3xNMjzdLI"
      },
      "source": [
        "## 도전과제\n",
        "\n",
        "- 하이퍼 파라미터 튜닝을 사용하여 모델의 정확도를 최대한 높여보세요.\n",
        "- 교차 검증(CV) 기법을 사용하여 모델과 조금 더 일관된 결과를 얻어보세요.\n",
        "- 아직 이론을 배우진 않았지만, Cifar100의 분류문제를 효율적으로 찾기위한 방법을 찾아보세요. \n",
        "- 대부분의 문제풀이는 CNN을 통해서 해결했을 것입니다. \n",
        "- 이제 코드를 보는 방법이 조금씩 익숙해졌기 때문에 다른 사람들이 돌려놓은 파일을 이해해서 돌아가는 샘플코드를 만들어볼 수 있을 것입니다. \n",
        "- 남들이 작성해두었고, 돌아가는 코드를 찾아서 변환하는 것이기 때문에 CNN이라고 해서 어려울 것은 없습니다. \n",
        "- 아직 원리를 모르지만, cifar100 데이터셋을 이용하여 CNN 모델을 구축하고 기본적인 신경망의 결과와 비교해 보십시오. \n",
        "- [참조링크](https://www.kaggle.com/adi160/cifar-10-keras-transfer-learning)\n"
      ]
    },
    {
      "cell_type": "markdown",
      "metadata": {
        "id": "qQUAJg5mYLBV"
      },
      "source": [
        "### 신경망"
      ]
    },
    {
      "cell_type": "markdown",
      "metadata": {
        "id": "eDklWAHqYTjm"
      },
      "source": [
        "#### 데이터불러오기"
      ]
    },
    {
      "cell_type": "code",
      "metadata": {
        "id": "5RdyQ2P_lFlX"
      },
      "source": [
        "from tensorflow.keras.datasets import cifar100\n",
        "from tensorflow.keras.models import Sequential\n",
        "from tensorflow.keras.layers import Dense, Dropout, Flatten\n",
        "from tensorflow.keras.layers import Conv2D, MaxPooling2D, BatchNormalization\n",
        "from tensorflow.keras.utils import to_categorical\n",
        "from tensorflow.keras.preprocessing.image import ImageDataGenerator\n",
        "from sklearn.model_selection import train_test_split\n",
        "import numpy as np\n",
        "import tensorflow as tf\n",
        "\n",
        "batch_size = 128\n",
        "num_classes = 100\n",
        "epochs = 50\n",
        "\n",
        "# 데이터 불러오기\n",
        "np.random.seed(1)\n",
        "tf.random.set_seed(1)\n",
        "(X_train, y_train), (X_test, y_test) = cifar100.load_data()\n",
        "\n",
        "X_train = X_train / 255.0 \n",
        "X_test = X_test / 255.0 \n",
        "\n",
        "# X_train,X_val,y_train,y_val=train_test_split(X_train,y_train,test_size=.2)"
      ],
      "execution_count": 10,
      "outputs": []
    },
    {
      "cell_type": "code",
      "metadata": {
        "colab": {
          "base_uri": "https://localhost:8080/"
        },
        "id": "LkStH7FyFgra",
        "outputId": "2b84d98e-d99f-4704-8592-f57aac61dabf"
      },
      "source": [
        "[X_train.shape, y_train.shape]"
      ],
      "execution_count": 40,
      "outputs": [
        {
          "output_type": "execute_result",
          "data": {
            "text/plain": [
              "[(40000, 32, 32, 3), (40000, 100)]"
            ]
          },
          "metadata": {
            "tags": []
          },
          "execution_count": 40
        }
      ]
    },
    {
      "cell_type": "markdown",
      "metadata": {
        "id": "p2qZnsoYYVdi"
      },
      "source": [
        "#### 모델제작"
      ]
    },
    {
      "cell_type": "code",
      "metadata": {
        "id": "H5-JemoY1J2G",
        "colab": {
          "base_uri": "https://localhost:8080/"
        },
        "outputId": "cd26069e-f953-49e3-f554-9baa4c5a05a4"
      },
      "source": [
        "# transfer\n",
        "from keras.applications import VGG19, ResNet50\n",
        "from tensorflow.keras.optimizers import Adam, SGD\n",
        "\n",
        "base_model_1 = VGG19(include_top=False, weights='imagenet', input_shape=(32,32,3), classes=y_train.shape[1])\n",
        "\n",
        "model_1= Sequential()\n",
        "model_1.add(base_model_1) \n",
        "model_1.add(Flatten()) \n",
        "\n",
        "#Add the Dense layers along with activation and batch normalization\n",
        "model_1.add(Dense(1024,activation=('relu'),input_dim=512))\n",
        "model_1.add(Dense(512,activation=('relu'))) \n",
        "model_1.add(Dense(256,activation=('relu'))) \n",
        "model_1.add(Dropout(.3)) #Adding a dropout layer that will randomly drop /30% of the weights\n",
        "model_1.add(Dense(128,activation=('relu')))\n",
        "model_1.add(Dropout(.2))\n",
        "model_1.add(Dense(num_classes,activation=('softmax'))) #This is the classification layer\n",
        "\n",
        "model_1.summary()"
      ],
      "execution_count": 11,
      "outputs": [
        {
          "output_type": "stream",
          "text": [
            "Model: \"sequential_2\"\n",
            "_________________________________________________________________\n",
            "Layer (type)                 Output Shape              Param #   \n",
            "=================================================================\n",
            "vgg19 (Functional)           (None, 1, 1, 512)         20024384  \n",
            "_________________________________________________________________\n",
            "flatten_1 (Flatten)          (None, 512)               0         \n",
            "_________________________________________________________________\n",
            "dense_2 (Dense)              (None, 1024)              525312    \n",
            "_________________________________________________________________\n",
            "dense_3 (Dense)              (None, 512)               524800    \n",
            "_________________________________________________________________\n",
            "dense_4 (Dense)              (None, 256)               131328    \n",
            "_________________________________________________________________\n",
            "dropout_4 (Dropout)          (None, 256)               0         \n",
            "_________________________________________________________________\n",
            "dense_5 (Dense)              (None, 128)               32896     \n",
            "_________________________________________________________________\n",
            "dropout_5 (Dropout)          (None, 128)               0         \n",
            "_________________________________________________________________\n",
            "dense_6 (Dense)              (None, 100)               12900     \n",
            "=================================================================\n",
            "Total params: 21,251,620\n",
            "Trainable params: 21,251,620\n",
            "Non-trainable params: 0\n",
            "_________________________________________________________________\n"
          ],
          "name": "stdout"
        }
      ]
    },
    {
      "cell_type": "markdown",
      "metadata": {
        "id": "77K0LG6pYXjs"
      },
      "source": [
        "#### 모델 fit"
      ]
    },
    {
      "cell_type": "code",
      "metadata": {
        "id": "c-8tMvFy1kko",
        "colab": {
          "base_uri": "https://localhost:8080/"
        },
        "outputId": "d42561aa-3ce3-40f7-e9b0-ed38a175aa55"
      },
      "source": [
        "import keras \n",
        "\n",
        "learn_rate=.001\n",
        "\n",
        "sgd=SGD(lr=learn_rate,momentum=.9,nesterov=False)\n",
        "adam=Adam(lr=learn_rate, beta_1=0.9, beta_2=0.999, epsilon=None, decay=0.0, amsgrad=False)\n",
        "\n",
        "model_1.compile(optimizer=sgd,loss='sparse_categorical_crossentropy',metrics=['accuracy'])\n",
        "\n",
        "early_stop = keras.callbacks.EarlyStopping(monitor='val_loss', min_delta=0, patience=5, verbose=1)\n",
        "\n",
        "model_1.fit(X_train, y_train, batch_size=batch_size,\n",
        "                    validation_data=(X_test, y_test),\n",
        "                    callbacks=[early_stop],\n",
        "                    epochs=epochs, verbose=1)"
      ],
      "execution_count": 13,
      "outputs": [
        {
          "output_type": "stream",
          "text": [
            "Epoch 1/50\n",
            "391/391 [==============================] - 19s 44ms/step - loss: 4.5589 - accuracy: 0.0205 - val_loss: 3.9165 - val_accuracy: 0.1342\n",
            "Epoch 2/50\n",
            "391/391 [==============================] - 17s 42ms/step - loss: 3.9106 - accuracy: 0.1187 - val_loss: 3.0882 - val_accuracy: 0.2640\n",
            "Epoch 3/50\n",
            "391/391 [==============================] - 16s 42ms/step - loss: 3.2640 - accuracy: 0.2192 - val_loss: 2.6320 - val_accuracy: 0.3389\n",
            "Epoch 4/50\n",
            "391/391 [==============================] - 17s 42ms/step - loss: 2.8477 - accuracy: 0.2894 - val_loss: 2.3447 - val_accuracy: 0.3976\n",
            "Epoch 5/50\n",
            "391/391 [==============================] - 17s 42ms/step - loss: 2.5585 - accuracy: 0.3457 - val_loss: 2.2349 - val_accuracy: 0.4178\n",
            "Epoch 6/50\n",
            "391/391 [==============================] - 17s 42ms/step - loss: 2.3293 - accuracy: 0.3928 - val_loss: 2.1042 - val_accuracy: 0.4472\n",
            "Epoch 7/50\n",
            "391/391 [==============================] - 16s 42ms/step - loss: 2.1646 - accuracy: 0.4278 - val_loss: 2.0453 - val_accuracy: 0.4543\n",
            "Epoch 8/50\n",
            "391/391 [==============================] - 16s 42ms/step - loss: 2.0202 - accuracy: 0.4608 - val_loss: 1.9934 - val_accuracy: 0.4652\n",
            "Epoch 9/50\n",
            "391/391 [==============================] - 16s 42ms/step - loss: 1.9002 - accuracy: 0.4868 - val_loss: 1.8612 - val_accuracy: 0.4965\n",
            "Epoch 10/50\n",
            "391/391 [==============================] - 16s 42ms/step - loss: 1.7904 - accuracy: 0.5145 - val_loss: 1.8298 - val_accuracy: 0.5090\n",
            "Epoch 11/50\n",
            "391/391 [==============================] - 17s 42ms/step - loss: 1.6926 - accuracy: 0.5342 - val_loss: 1.7643 - val_accuracy: 0.5234\n",
            "Epoch 12/50\n",
            "391/391 [==============================] - 16s 42ms/step - loss: 1.5680 - accuracy: 0.5684 - val_loss: 1.7704 - val_accuracy: 0.5270\n",
            "Epoch 13/50\n",
            "391/391 [==============================] - 17s 42ms/step - loss: 1.4839 - accuracy: 0.5875 - val_loss: 1.7066 - val_accuracy: 0.5404\n",
            "Epoch 14/50\n",
            "391/391 [==============================] - 16s 42ms/step - loss: 1.3789 - accuracy: 0.6179 - val_loss: 1.7304 - val_accuracy: 0.5399\n",
            "Epoch 15/50\n",
            "391/391 [==============================] - 17s 42ms/step - loss: 1.2997 - accuracy: 0.6312 - val_loss: 1.7148 - val_accuracy: 0.5512\n",
            "Epoch 16/50\n",
            "391/391 [==============================] - 17s 42ms/step - loss: 1.2085 - accuracy: 0.6565 - val_loss: 1.6723 - val_accuracy: 0.5581\n",
            "Epoch 17/50\n",
            "391/391 [==============================] - 16s 42ms/step - loss: 1.1369 - accuracy: 0.6715 - val_loss: 1.7582 - val_accuracy: 0.5491\n",
            "Epoch 18/50\n",
            "391/391 [==============================] - 16s 42ms/step - loss: 1.0667 - accuracy: 0.6908 - val_loss: 1.7360 - val_accuracy: 0.5522\n",
            "Epoch 19/50\n",
            "391/391 [==============================] - 16s 42ms/step - loss: 0.9774 - accuracy: 0.7183 - val_loss: 1.7966 - val_accuracy: 0.5603\n",
            "Epoch 20/50\n",
            "391/391 [==============================] - 16s 42ms/step - loss: 0.9007 - accuracy: 0.7335 - val_loss: 1.8059 - val_accuracy: 0.5578\n",
            "Epoch 21/50\n",
            "391/391 [==============================] - 17s 42ms/step - loss: 0.8333 - accuracy: 0.7524 - val_loss: 1.8161 - val_accuracy: 0.5672\n",
            "Epoch 00021: early stopping\n"
          ],
          "name": "stdout"
        },
        {
          "output_type": "execute_result",
          "data": {
            "text/plain": [
              "<tensorflow.python.keras.callbacks.History at 0x7f83a55eb910>"
            ]
          },
          "metadata": {
            "tags": []
          },
          "execution_count": 13
        }
      ]
    },
    {
      "cell_type": "markdown",
      "metadata": {
        "id": "SfEYWQl2YZgy"
      },
      "source": [
        "#### Visualize history"
      ]
    },
    {
      "cell_type": "code",
      "metadata": {
        "id": "ynoPTe_u10Jg",
        "colab": {
          "base_uri": "https://localhost:8080/",
          "height": 283
        },
        "outputId": "d257b6e1-c9e1-4480-ca0b-8b600535c662"
      },
      "source": [
        "import matplotlib.pyplot as plt\n",
        "f,ax=plt.subplots(2,1) #Creates 2 subplots under 1 column\n",
        "\n",
        "#Assign the first subplot to graph training loss and validation loss\n",
        "ax[0].plot(model_1.history.history['loss'],color='b',label='Training Loss')\n",
        "ax[0].plot(model_1.history.history['val_loss'],color='r',label='Validation Loss')\n",
        "\n",
        "#Next lets plot the training accuracy and validation accuracy\n",
        "ax[1].plot(model_1.history.history['accuracy'],color='b',label='Training  Accuracy')\n",
        "ax[1].plot(model_1.history.history['val_accuracy'],color='r',label='Validation Accuracy')"
      ],
      "execution_count": 14,
      "outputs": [
        {
          "output_type": "execute_result",
          "data": {
            "text/plain": [
              "[<matplotlib.lines.Line2D at 0x7f83a531f390>]"
            ]
          },
          "metadata": {
            "tags": []
          },
          "execution_count": 14
        },
        {
          "output_type": "display_data",
          "data": {
            "image/png": "[encoded data removed]",
            "text/plain": [
              "<Figure size 432x288 with 2 Axes>"
            ]
          },
          "metadata": {
            "tags": [],
            "needs_background": "light"
          }
        }
      ]
    },
    {
      "cell_type": "markdown",
      "metadata": {
        "id": "RDhhZdbLdA49"
      },
      "source": [
        "#### test"
      ]
    },
    {
      "cell_type": "code",
      "metadata": {
        "id": "Mdl_5S9xQ4Na",
        "colab": {
          "base_uri": "https://localhost:8080/"
        },
        "outputId": "dbbe365f-47f9-4dac-a8c8-e602c38a61f2"
      },
      "source": [
        "model_1.predict(X_test)\n",
        "test_loss, test_acc = model_1.evaluate(X_test, y_test, verbose=1)"
      ],
      "execution_count": 59,
      "outputs": [
        {
          "output_type": "stream",
          "text": [
            "313/313 [==============================] - 3s 9ms/step - loss: 1.9139 - accuracy: 0.5470\n"
          ],
          "name": "stdout"
        }
      ]
    },
    {
      "cell_type": "markdown",
      "metadata": {
        "id": "QfHTDU-YYbXk"
      },
      "source": [
        "### CNN\n"
      ]
    },
    {
      "cell_type": "markdown",
      "metadata": {
        "id": "xh3tnrbLYvMN"
      },
      "source": [
        "#### 모델제작"
      ]
    },
    {
      "cell_type": "code",
      "metadata": {
        "colab": {
          "base_uri": "https://localhost:8080/"
        },
        "id": "CAZ_SYLPYcjk",
        "outputId": "e9e98761-8027-44e7-de90-9f24848eccb5"
      },
      "source": [
        "model = Sequential()\n",
        "model.add(Conv2D(32, kernel_size=(3, 3), activation='relu', input_shape=(32,32,3)))\n",
        "model.add(MaxPooling2D(pool_size=(2, 2)))\n",
        "model.add(Conv2D(64, kernel_size=(3, 3), activation='relu'))\n",
        "model.add(MaxPooling2D(pool_size=(2, 2)))\n",
        "model.add(Conv2D(128, kernel_size=(3, 3), activation='relu'))\n",
        "model.add(MaxPooling2D(pool_size=(2, 2)))\n",
        "model.add(Flatten())\n",
        "model.add(Dense(256, activation='relu'))\n",
        "model.add(Dense(128, activation='relu'))\n",
        "model.add(Dense(num_classes, activation='softmax'))\n",
        "\n",
        "model.summary()"
      ],
      "execution_count": 60,
      "outputs": [
        {
          "output_type": "stream",
          "text": [
            "Model: \"sequential_15\"\n",
            "_________________________________________________________________\n",
            "Layer (type)                 Output Shape              Param #   \n",
            "=================================================================\n",
            "conv2d (Conv2D)              (None, 30, 30, 32)        896       \n",
            "_________________________________________________________________\n",
            "max_pooling2d (MaxPooling2D) (None, 15, 15, 32)        0         \n",
            "_________________________________________________________________\n",
            "conv2d_1 (Conv2D)            (None, 13, 13, 64)        18496     \n",
            "_________________________________________________________________\n",
            "max_pooling2d_1 (MaxPooling2 (None, 6, 6, 64)          0         \n",
            "_________________________________________________________________\n",
            "conv2d_2 (Conv2D)            (None, 4, 4, 128)         73856     \n",
            "_________________________________________________________________\n",
            "max_pooling2d_2 (MaxPooling2 (None, 2, 2, 128)         0         \n",
            "_________________________________________________________________\n",
            "flatten_15 (Flatten)         (None, 512)               0         \n",
            "_________________________________________________________________\n",
            "dense_57 (Dense)             (None, 256)               131328    \n",
            "_________________________________________________________________\n",
            "dense_58 (Dense)             (None, 128)               32896     \n",
            "_________________________________________________________________\n",
            "dense_59 (Dense)             (None, 100)               12900     \n",
            "=================================================================\n",
            "Total params: 270,372\n",
            "Trainable params: 270,372\n",
            "Non-trainable params: 0\n",
            "_________________________________________________________________\n"
          ],
          "name": "stdout"
        }
      ]
    },
    {
      "cell_type": "markdown",
      "metadata": {
        "id": "SFeb4P5HY0Wy"
      },
      "source": [
        "#### 모델훈련"
      ]
    },
    {
      "cell_type": "code",
      "metadata": {
        "colab": {
          "base_uri": "https://localhost:8080/"
        },
        "id": "7zaZ4rWqY1-X",
        "outputId": "f68e626b-9435-415b-8eaf-23cc2a9d8be6"
      },
      "source": [
        "learn_rate=.001\n",
        "\n",
        "adam=Adam(lr=learn_rate, beta_1=0.9, beta_2=0.999, epsilon=None, decay=0.0, amsgrad=False)\n",
        "\n",
        "model.compile(optimizer=adam,loss='sparse_categorical_crossentropy',metrics=['accuracy'])\n",
        "\n",
        "model.fit(X_train, y_train, batch_size=batch_size,\n",
        "                    validation_data=(X_val, y_val),\n",
        "                    epochs=epochs, verbose=1)\n"
      ],
      "execution_count": 67,
      "outputs": [
        {
          "output_type": "stream",
          "text": [
            "Epoch 1/50\n",
            "313/313 [==============================] - 2s 6ms/step - loss: 1.7298 - accuracy: 0.5133 - val_loss: 3.6956 - val_accuracy: 0.3356\n",
            "Epoch 2/50\n",
            "313/313 [==============================] - 2s 6ms/step - loss: 0.8860 - accuracy: 0.7287 - val_loss: 4.1809 - val_accuracy: 0.3324\n",
            "Epoch 3/50\n",
            "313/313 [==============================] - 2s 6ms/step - loss: 0.6527 - accuracy: 0.7899 - val_loss: 4.8308 - val_accuracy: 0.3319\n",
            "Epoch 4/50\n",
            "313/313 [==============================] - 2s 6ms/step - loss: 0.5007 - accuracy: 0.8363 - val_loss: 5.2112 - val_accuracy: 0.3290\n",
            "Epoch 5/50\n",
            "313/313 [==============================] - 2s 6ms/step - loss: 0.3863 - accuracy: 0.8703 - val_loss: 5.6783 - val_accuracy: 0.3342\n",
            "Epoch 6/50\n",
            "313/313 [==============================] - 2s 6ms/step - loss: 0.3017 - accuracy: 0.9012 - val_loss: 6.0775 - val_accuracy: 0.3306\n",
            "Epoch 7/50\n",
            "313/313 [==============================] - 2s 6ms/step - loss: 0.2674 - accuracy: 0.9118 - val_loss: 6.5409 - val_accuracy: 0.3364\n",
            "Epoch 8/50\n",
            "313/313 [==============================] - 2s 6ms/step - loss: 0.2474 - accuracy: 0.9166 - val_loss: 6.8302 - val_accuracy: 0.3349\n",
            "Epoch 9/50\n",
            "313/313 [==============================] - 2s 6ms/step - loss: 0.2259 - accuracy: 0.9234 - val_loss: 7.1325 - val_accuracy: 0.3297\n",
            "Epoch 10/50\n",
            "313/313 [==============================] - 2s 6ms/step - loss: 0.2230 - accuracy: 0.9240 - val_loss: 7.2718 - val_accuracy: 0.3267\n",
            "Epoch 11/50\n",
            "313/313 [==============================] - 2s 5ms/step - loss: 0.2288 - accuracy: 0.9231 - val_loss: 7.4018 - val_accuracy: 0.3271\n",
            "Epoch 12/50\n",
            "313/313 [==============================] - 2s 5ms/step - loss: 0.1759 - accuracy: 0.9420 - val_loss: 7.7037 - val_accuracy: 0.3283\n",
            "Epoch 13/50\n",
            "313/313 [==============================] - 2s 6ms/step - loss: 0.1974 - accuracy: 0.9340 - val_loss: 7.8681 - val_accuracy: 0.3195\n",
            "Epoch 14/50\n",
            "313/313 [==============================] - 2s 6ms/step - loss: 0.2396 - accuracy: 0.9187 - val_loss: 8.1172 - val_accuracy: 0.3225\n",
            "Epoch 15/50\n",
            "313/313 [==============================] - 2s 5ms/step - loss: 0.1942 - accuracy: 0.9338 - val_loss: 8.0585 - val_accuracy: 0.3261\n",
            "Epoch 16/50\n",
            "313/313 [==============================] - 2s 6ms/step - loss: 0.1843 - accuracy: 0.9357 - val_loss: 8.3619 - val_accuracy: 0.3279\n",
            "Epoch 17/50\n",
            "313/313 [==============================] - 2s 6ms/step - loss: 0.1688 - accuracy: 0.9438 - val_loss: 8.5781 - val_accuracy: 0.3271\n",
            "Epoch 18/50\n",
            "313/313 [==============================] - 2s 6ms/step - loss: 0.1636 - accuracy: 0.9463 - val_loss: 8.7567 - val_accuracy: 0.3286\n",
            "Epoch 19/50\n",
            "313/313 [==============================] - 2s 6ms/step - loss: 0.1910 - accuracy: 0.9361 - val_loss: 8.7615 - val_accuracy: 0.3271\n",
            "Epoch 20/50\n",
            "313/313 [==============================] - 2s 6ms/step - loss: 0.2079 - accuracy: 0.9330 - val_loss: 8.8530 - val_accuracy: 0.3259\n",
            "Epoch 21/50\n",
            "313/313 [==============================] - 2s 6ms/step - loss: 0.1701 - accuracy: 0.9430 - val_loss: 9.1140 - val_accuracy: 0.3284\n",
            "Epoch 22/50\n",
            "313/313 [==============================] - 2s 6ms/step - loss: 0.1382 - accuracy: 0.9533 - val_loss: 9.3036 - val_accuracy: 0.3230\n",
            "Epoch 23/50\n",
            "313/313 [==============================] - 2s 6ms/step - loss: 0.1783 - accuracy: 0.9414 - val_loss: 9.4043 - val_accuracy: 0.3190\n",
            "Epoch 24/50\n",
            "313/313 [==============================] - 2s 6ms/step - loss: 0.1691 - accuracy: 0.9423 - val_loss: 9.5742 - val_accuracy: 0.3225\n",
            "Epoch 25/50\n",
            "313/313 [==============================] - 2s 6ms/step - loss: 0.1533 - accuracy: 0.9499 - val_loss: 9.4970 - val_accuracy: 0.3201\n",
            "Epoch 26/50\n",
            "313/313 [==============================] - 2s 5ms/step - loss: 0.1565 - accuracy: 0.9458 - val_loss: 9.7394 - val_accuracy: 0.3264\n",
            "Epoch 27/50\n",
            "313/313 [==============================] - 2s 6ms/step - loss: 0.1980 - accuracy: 0.9346 - val_loss: 9.8277 - val_accuracy: 0.3188\n",
            "Epoch 28/50\n",
            "313/313 [==============================] - 2s 5ms/step - loss: 0.1407 - accuracy: 0.9523 - val_loss: 9.7627 - val_accuracy: 0.3132\n",
            "Epoch 29/50\n",
            "313/313 [==============================] - 2s 6ms/step - loss: 0.1601 - accuracy: 0.9478 - val_loss: 9.7938 - val_accuracy: 0.3265\n",
            "Epoch 30/50\n",
            "313/313 [==============================] - 2s 6ms/step - loss: 0.1171 - accuracy: 0.9605 - val_loss: 9.8743 - val_accuracy: 0.3204\n",
            "Epoch 31/50\n",
            "313/313 [==============================] - 2s 6ms/step - loss: 0.1555 - accuracy: 0.9489 - val_loss: 10.1993 - val_accuracy: 0.3192\n",
            "Epoch 32/50\n",
            "313/313 [==============================] - 2s 6ms/step - loss: 0.1736 - accuracy: 0.9450 - val_loss: 10.1272 - val_accuracy: 0.3230\n",
            "Epoch 33/50\n",
            "313/313 [==============================] - 2s 6ms/step - loss: 0.1632 - accuracy: 0.9479 - val_loss: 10.2401 - val_accuracy: 0.3206\n",
            "Epoch 34/50\n",
            "313/313 [==============================] - 2s 6ms/step - loss: 0.1746 - accuracy: 0.9419 - val_loss: 10.3147 - val_accuracy: 0.3222\n",
            "Epoch 35/50\n",
            "313/313 [==============================] - 2s 5ms/step - loss: 0.1482 - accuracy: 0.9506 - val_loss: 10.3266 - val_accuracy: 0.3266\n",
            "Epoch 36/50\n",
            "313/313 [==============================] - 2s 6ms/step - loss: 0.1296 - accuracy: 0.9579 - val_loss: 10.5196 - val_accuracy: 0.3147\n",
            "Epoch 37/50\n",
            "313/313 [==============================] - 2s 6ms/step - loss: 0.1846 - accuracy: 0.9411 - val_loss: 10.4183 - val_accuracy: 0.3201\n",
            "Epoch 38/50\n",
            "313/313 [==============================] - 2s 6ms/step - loss: 0.1404 - accuracy: 0.9547 - val_loss: 10.6625 - val_accuracy: 0.3199\n",
            "Epoch 39/50\n",
            "313/313 [==============================] - 2s 6ms/step - loss: 0.1332 - accuracy: 0.9550 - val_loss: 10.7026 - val_accuracy: 0.3212\n",
            "Epoch 40/50\n",
            "313/313 [==============================] - 2s 6ms/step - loss: 0.1701 - accuracy: 0.9442 - val_loss: 10.7404 - val_accuracy: 0.3186\n",
            "Epoch 41/50\n",
            "313/313 [==============================] - 2s 6ms/step - loss: 0.1312 - accuracy: 0.9577 - val_loss: 10.8887 - val_accuracy: 0.3242\n",
            "Epoch 42/50\n",
            "313/313 [==============================] - 2s 6ms/step - loss: 0.1465 - accuracy: 0.9510 - val_loss: 10.9582 - val_accuracy: 0.3229\n",
            "Epoch 43/50\n",
            "313/313 [==============================] - 2s 6ms/step - loss: 0.1384 - accuracy: 0.9541 - val_loss: 10.9309 - val_accuracy: 0.3173\n",
            "Epoch 44/50\n",
            "313/313 [==============================] - 2s 6ms/step - loss: 0.1601 - accuracy: 0.9491 - val_loss: 11.1106 - val_accuracy: 0.3219\n",
            "Epoch 45/50\n",
            "313/313 [==============================] - 2s 6ms/step - loss: 0.1258 - accuracy: 0.9581 - val_loss: 11.3622 - val_accuracy: 0.3151\n",
            "Epoch 46/50\n",
            "313/313 [==============================] - 2s 6ms/step - loss: 0.1728 - accuracy: 0.9455 - val_loss: 11.1703 - val_accuracy: 0.3176\n",
            "Epoch 47/50\n",
            "313/313 [==============================] - 2s 6ms/step - loss: 0.1505 - accuracy: 0.9499 - val_loss: 11.1895 - val_accuracy: 0.3175\n",
            "Epoch 48/50\n",
            "313/313 [==============================] - 2s 6ms/step - loss: 0.1330 - accuracy: 0.9576 - val_loss: 11.4109 - val_accuracy: 0.3237\n",
            "Epoch 49/50\n",
            "313/313 [==============================] - 2s 6ms/step - loss: 0.1423 - accuracy: 0.9538 - val_loss: 11.6017 - val_accuracy: 0.3217\n",
            "Epoch 50/50\n",
            "313/313 [==============================] - 2s 6ms/step - loss: 0.1965 - accuracy: 0.9384 - val_loss: 11.3390 - val_accuracy: 0.3207\n"
          ],
          "name": "stdout"
        },
        {
          "output_type": "execute_result",
          "data": {
            "text/plain": [
              "<tensorflow.python.keras.callbacks.History at 0x7f8bea78f1d0>"
            ]
          },
          "metadata": {
            "tags": []
          },
          "execution_count": 67
        }
      ]
    },
    {
      "cell_type": "markdown",
      "metadata": {
        "id": "g7zPZ23DY0Tw"
      },
      "source": [
        "#### Visualize history"
      ]
    },
    {
      "cell_type": "code",
      "metadata": {
        "colab": {
          "base_uri": "https://localhost:8080/",
          "height": 283
        },
        "id": "iEVxuv1vci34",
        "outputId": "b22449ae-64ac-4d69-ba80-c82c9892c2f8"
      },
      "source": [
        "import matplotlib.pyplot as plt\n",
        "f,ax=plt.subplots(2,1) #Creates 2 subplots under 1 column\n",
        "\n",
        "#Assign the first subplot to graph training loss and validation loss\n",
        "ax[0].plot(model.history.history['loss'],color='b',label='Training Loss')\n",
        "ax[0].plot(model.history.history['val_loss'],color='r',label='Validation Loss')\n",
        "\n",
        "#Next lets plot the training accuracy and validation accuracy\n",
        "ax[1].plot(model.history.history['accuracy'],color='b',label='Training  Accuracy')\n",
        "ax[1].plot(model.history.history['val_accuracy'],color='r',label='Validation Accuracy')"
      ],
      "execution_count": 70,
      "outputs": [
        {
          "output_type": "execute_result",
          "data": {
            "text/plain": [
              "[<matplotlib.lines.Line2D at 0x7f8bceeedc10>]"
            ]
          },
          "metadata": {
            "tags": []
          },
          "execution_count": 70
        },
        {
          "output_type": "display_data",
          "data": {
            "image/png": "[encoded data removed]",
            "text/plain": [
              "<Figure size 432x288 with 2 Axes>"
            ]
          },
          "metadata": {
            "tags": [],
            "needs_background": "light"
          }
        }
      ]
    },
    {
      "cell_type": "markdown",
      "metadata": {
        "id": "5Pz-qR3_dD4v"
      },
      "source": [
        "#### test"
      ]
    },
    {
      "cell_type": "code",
      "metadata": {
        "colab": {
          "base_uri": "https://localhost:8080/"
        },
        "id": "uIDi9isdsRTl",
        "outputId": "02036fd5-188b-4f91-ab5b-3e2a7a0325d2"
      },
      "source": [
        "## ANN\n",
        "model_1.predict(X_test)\n",
        "test_loss, test_acc = model_1.evaluate(X_test, y_test, verbose=1)"
      ],
      "execution_count": 72,
      "outputs": [
        {
          "output_type": "stream",
          "text": [
            "313/313 [==============================] - 3s 9ms/step - loss: 1.9139 - accuracy: 0.5470\n"
          ],
          "name": "stdout"
        }
      ]
    },
    {
      "cell_type": "code",
      "metadata": {
        "colab": {
          "base_uri": "https://localhost:8080/"
        },
        "id": "Bq2gmH48dE8F",
        "outputId": "8548705b-0259-498e-b598-5c110b0ae7d3"
      },
      "source": [
        "## CNN\n",
        "model.predict(X_test)\n",
        "test_loss, test_acc = model.evaluate(X_test, y_test, verbose=1)"
      ],
      "execution_count": 77,
      "outputs": [
        {
          "output_type": "stream",
          "text": [
            "313/313 [==============================] - 1s 3ms/step - loss: 11.0041 - accuracy: 0.3158\n"
          ],
          "name": "stdout"
        }
      ]
    },
    {
      "cell_type": "markdown",
      "metadata": {
        "id": "YaABveg1c3Es"
      },
      "source": [
        "#### 중간점검"
      ]
    },
    {
      "cell_type": "markdown",
      "metadata": {
        "id": "4F_D29s9c2_H"
      },
      "source": [
        "기본적인 ANN모델은 테스트셋에서 정확도가 0.5470이었는데 CNN모델에서는 0.3158이었다. ANN은 캐글 작성자가 열심히 조정해놓은 것이니까, CNN을 조정해서 ANN보다 좋게 만들어 보자"
      ]
    },
    {
      "cell_type": "markdown",
      "metadata": {
        "id": "AMxTkOP2c24c"
      },
      "source": [
        "### CNN"
      ]
    },
    {
      "cell_type": "markdown",
      "metadata": {
        "id": "uBjbyIwOqOPG"
      },
      "source": [
        "#### 모델링"
      ]
    },
    {
      "cell_type": "code",
      "metadata": {
        "id": "Up1BiCQ-dr5J"
      },
      "source": [
        "from keras.models import Sequential\n",
        "from keras.layers.convolutional import Conv2D\n",
        "from keras.layers.pooling import MaxPool2D\n",
        "from keras.layers.core import Dense,Activation,Dropout,Flatten\n",
        "from keras.utils import np_utils\n",
        "from tensorflow.keras.utils import to_categorical\n",
        "from tensorflow.keras.datasets import cifar100\n",
        "from tensorflow.keras.layers import Dense, Conv2D, MaxPool2D, Flatten, Dropout, BatchNormalization\n",
        "\n",
        "import tensorflow as tf\n",
        "from tensorflow.keras import datasets, layers, models, optimizers\n",
        "\n",
        "(X_train, y_train), (X_test, y_test) = cifar100.load_data()\n",
        "num_classes=100\n",
        "\n",
        "X_train = X_train / 255.\n",
        "X_test = X_test / 255.\n",
        "# convert class vectors to binary class matrices\n",
        "y_train = to_categorical(y_train, num_classes)\n",
        "y_test = to_categorical(y_test, num_classes)\n",
        "\n",
        "# Create Model(CNN + Dropout)\n",
        "model = Sequential()\n",
        "\n",
        "model.add(Conv2D(filters=32, kernel_size=(3, 3), input_shape=(32, 32, 3), activation='relu', padding='same'))\n",
        "model.add(BatchNormalization())\n",
        "model.add(Conv2D(filters=32, kernel_size=(3, 3), input_shape=(32, 32, 3), activation='relu', padding='same'))\n",
        "model.add(BatchNormalization())\n",
        "model.add(MaxPool2D(pool_size=(2, 2)))\n",
        "model.add(Dropout(0.25))\n",
        "\n",
        "model.add(Conv2D(filters=64, kernel_size=(3, 3), input_shape=(32, 32, 3), activation='relu', padding='same'))\n",
        "model.add(BatchNormalization())\n",
        "model.add(Conv2D(filters=64, kernel_size=(3, 3), input_shape=(32, 32, 3), activation='relu', padding='same'))\n",
        "model.add(BatchNormalization())\n",
        "model.add(MaxPool2D(pool_size=(2, 2)))\n",
        "model.add(Dropout(0.25))\n",
        "\n",
        "model.add(Conv2D(filters=128, kernel_size=(3, 3), input_shape=(32, 32, 3), activation='relu', padding='same'))\n",
        "model.add(BatchNormalization())\n",
        "model.add(Conv2D(filters=128, kernel_size=(3, 3), input_shape=(32, 32, 3), activation='relu', padding='same'))\n",
        "model.add(BatchNormalization())\n",
        "model.add(MaxPool2D(pool_size=(2, 2)))\n",
        "model.add(Dropout(0.25))\n",
        "\n",
        "model.add(Flatten())\n",
        "model.add(Dense(128, activation='relu'))\n",
        "model.add(Dropout(0.25))\n",
        "model.add(Dense(100, activation='softmax'))\n",
        "\n",
        "model.compile(optimizer='adam',loss='categorical_crossentropy',metrics=['accuracy'])\n",
        " \n",
        "model.summary()"
      ],
      "execution_count": 18,
      "outputs": []
    },
    {
      "cell_type": "markdown",
      "metadata": {
        "id": "fBbEA8ILqP4u"
      },
      "source": [
        "#### 모델 훈련"
      ]
    },
    {
      "cell_type": "code",
      "metadata": {
        "colab": {
          "base_uri": "https://localhost:8080/"
        },
        "id": "Vst7iK04vC7O",
        "outputId": "435adb3f-7230-4e9a-f039-1ed70c491448"
      },
      "source": [
        "# Training\n",
        "from keras.callbacks import EarlyStopping, ModelCheckpoint\n",
        "early_stop = EarlyStopping(monitor='val_loss', min_delta=0, patience=10, verbose=1)\n",
        "\n",
        "checkpoint_filepath = \"cifar.hdf5\"\n",
        "save_best = ModelCheckpoint(\n",
        "    filepath=checkpoint_filepath, monitor='val_loss', verbose=1, save_best_only=True,\n",
        "    save_weights_only=True, mode='auto', save_freq='epoch', options=None)\n",
        "\n",
        "history = model.fit(X_train, y_train\n",
        "                    , batch_size=64\n",
        "                    , epochs=100\n",
        "                    , validation_data=(X_test, y_test)\n",
        "                    , verbose=1\n",
        "                    , callbacks=[early_stop, save_best])"
      ],
      "execution_count": 6,
      "outputs": [
        {
          "output_type": "stream",
          "text": [
            "Epoch 1/100\n",
            "782/782 [==============================] - 37s 8ms/step - loss: 4.5217 - accuracy: 0.0312 - val_loss: 3.8341 - val_accuracy: 0.0964\n",
            "\n",
            "Epoch 00001: val_loss improved from inf to 3.83407, saving model to cifar.hdf5\n",
            "Epoch 2/100\n",
            "782/782 [==============================] - 6s 8ms/step - loss: 3.8235 - accuracy: 0.1066 - val_loss: 3.2872 - val_accuracy: 0.1948\n",
            "\n",
            "Epoch 00002: val_loss improved from 3.83407 to 3.28716, saving model to cifar.hdf5\n",
            "Epoch 3/100\n",
            "782/782 [==============================] - 6s 8ms/step - loss: 3.3982 - accuracy: 0.1754 - val_loss: 3.2555 - val_accuracy: 0.2048\n",
            "\n",
            "Epoch 00003: val_loss improved from 3.28716 to 3.25553, saving model to cifar.hdf5\n",
            "Epoch 4/100\n",
            "782/782 [==============================] - 6s 8ms/step - loss: 3.0428 - accuracy: 0.2414 - val_loss: 2.6684 - val_accuracy: 0.3184\n",
            "\n",
            "Epoch 00004: val_loss improved from 3.25553 to 2.66837, saving model to cifar.hdf5\n",
            "Epoch 5/100\n",
            "782/782 [==============================] - 6s 8ms/step - loss: 2.7576 - accuracy: 0.2922 - val_loss: 2.4107 - val_accuracy: 0.3646\n",
            "\n",
            "Epoch 00005: val_loss improved from 2.66837 to 2.41069, saving model to cifar.hdf5\n",
            "Epoch 6/100\n",
            "782/782 [==============================] - 6s 8ms/step - loss: 2.5552 - accuracy: 0.3325 - val_loss: 2.2772 - val_accuracy: 0.3984\n",
            "\n",
            "Epoch 00006: val_loss improved from 2.41069 to 2.27717, saving model to cifar.hdf5\n",
            "Epoch 7/100\n",
            "782/782 [==============================] - 6s 8ms/step - loss: 2.3761 - accuracy: 0.3654 - val_loss: 2.2936 - val_accuracy: 0.3960\n",
            "\n",
            "Epoch 00007: val_loss did not improve from 2.27717\n",
            "Epoch 8/100\n",
            "782/782 [==============================] - 6s 8ms/step - loss: 2.2379 - accuracy: 0.4023 - val_loss: 2.1142 - val_accuracy: 0.4453\n",
            "\n",
            "Epoch 00008: val_loss improved from 2.27717 to 2.11416, saving model to cifar.hdf5\n",
            "Epoch 9/100\n",
            "782/782 [==============================] - 6s 8ms/step - loss: 2.1098 - accuracy: 0.4284 - val_loss: 1.9661 - val_accuracy: 0.4674\n",
            "\n",
            "Epoch 00009: val_loss improved from 2.11416 to 1.96605, saving model to cifar.hdf5\n",
            "Epoch 10/100\n",
            "782/782 [==============================] - 6s 8ms/step - loss: 2.0273 - accuracy: 0.4455 - val_loss: 1.9424 - val_accuracy: 0.4783\n",
            "\n",
            "Epoch 00010: val_loss improved from 1.96605 to 1.94235, saving model to cifar.hdf5\n",
            "Epoch 11/100\n",
            "782/782 [==============================] - 6s 8ms/step - loss: 1.9159 - accuracy: 0.4689 - val_loss: 1.8872 - val_accuracy: 0.4862\n",
            "\n",
            "Epoch 00011: val_loss improved from 1.94235 to 1.88721, saving model to cifar.hdf5\n",
            "Epoch 12/100\n",
            "782/782 [==============================] - 6s 8ms/step - loss: 1.8409 - accuracy: 0.4865 - val_loss: 1.8480 - val_accuracy: 0.4956\n",
            "\n",
            "Epoch 00012: val_loss improved from 1.88721 to 1.84801, saving model to cifar.hdf5\n",
            "Epoch 13/100\n",
            "782/782 [==============================] - 6s 8ms/step - loss: 1.7692 - accuracy: 0.5052 - val_loss: 1.9330 - val_accuracy: 0.4838\n",
            "\n",
            "Epoch 00013: val_loss did not improve from 1.84801\n",
            "Epoch 14/100\n",
            "782/782 [==============================] - 6s 8ms/step - loss: 1.6961 - accuracy: 0.5216 - val_loss: 1.7822 - val_accuracy: 0.5158\n",
            "\n",
            "Epoch 00014: val_loss improved from 1.84801 to 1.78221, saving model to cifar.hdf5\n",
            "Epoch 15/100\n",
            "782/782 [==============================] - 6s 8ms/step - loss: 1.6407 - accuracy: 0.5341 - val_loss: 1.7848 - val_accuracy: 0.5148\n",
            "\n",
            "Epoch 00015: val_loss did not improve from 1.78221\n",
            "Epoch 16/100\n",
            "782/782 [==============================] - 6s 8ms/step - loss: 1.6043 - accuracy: 0.5415 - val_loss: 1.8178 - val_accuracy: 0.5153\n",
            "\n",
            "Epoch 00016: val_loss did not improve from 1.78221\n",
            "Epoch 17/100\n",
            "782/782 [==============================] - 6s 8ms/step - loss: 1.5361 - accuracy: 0.5642 - val_loss: 1.8530 - val_accuracy: 0.5080\n",
            "\n",
            "Epoch 00017: val_loss did not improve from 1.78221\n",
            "Epoch 18/100\n",
            "782/782 [==============================] - 6s 8ms/step - loss: 1.4968 - accuracy: 0.5696 - val_loss: 1.7842 - val_accuracy: 0.5206\n",
            "\n",
            "Epoch 00018: val_loss did not improve from 1.78221\n",
            "Epoch 19/100\n",
            "782/782 [==============================] - 6s 8ms/step - loss: 1.4505 - accuracy: 0.5822 - val_loss: 1.7187 - val_accuracy: 0.5327\n",
            "\n",
            "Epoch 00019: val_loss improved from 1.78221 to 1.71866, saving model to cifar.hdf5\n",
            "Epoch 20/100\n",
            "782/782 [==============================] - 6s 8ms/step - loss: 1.4283 - accuracy: 0.5856 - val_loss: 1.7124 - val_accuracy: 0.5408\n",
            "\n",
            "Epoch 00020: val_loss improved from 1.71866 to 1.71239, saving model to cifar.hdf5\n",
            "Epoch 21/100\n",
            "782/782 [==============================] - 6s 8ms/step - loss: 1.3942 - accuracy: 0.5949 - val_loss: 1.6986 - val_accuracy: 0.5382\n",
            "\n",
            "Epoch 00021: val_loss improved from 1.71239 to 1.69861, saving model to cifar.hdf5\n",
            "Epoch 22/100\n",
            "782/782 [==============================] - 6s 8ms/step - loss: 1.3414 - accuracy: 0.6063 - val_loss: 1.7266 - val_accuracy: 0.5333\n",
            "\n",
            "Epoch 00022: val_loss did not improve from 1.69861\n",
            "Epoch 23/100\n",
            "782/782 [==============================] - 6s 8ms/step - loss: 1.3233 - accuracy: 0.6141 - val_loss: 1.6852 - val_accuracy: 0.5477\n",
            "\n",
            "Epoch 00023: val_loss improved from 1.69861 to 1.68517, saving model to cifar.hdf5\n",
            "Epoch 24/100\n",
            "782/782 [==============================] - 6s 8ms/step - loss: 1.3108 - accuracy: 0.6146 - val_loss: 1.6879 - val_accuracy: 0.5490\n",
            "\n",
            "Epoch 00024: val_loss did not improve from 1.68517\n",
            "Epoch 25/100\n",
            "782/782 [==============================] - 6s 8ms/step - loss: 1.2693 - accuracy: 0.6205 - val_loss: 1.6467 - val_accuracy: 0.5557\n",
            "\n",
            "Epoch 00025: val_loss improved from 1.68517 to 1.64667, saving model to cifar.hdf5\n",
            "Epoch 26/100\n",
            "782/782 [==============================] - 6s 8ms/step - loss: 1.2426 - accuracy: 0.6321 - val_loss: 1.7291 - val_accuracy: 0.5359\n",
            "\n",
            "Epoch 00026: val_loss did not improve from 1.64667\n",
            "Epoch 27/100\n",
            "782/782 [==============================] - 6s 8ms/step - loss: 1.2323 - accuracy: 0.6358 - val_loss: 1.6476 - val_accuracy: 0.5625\n",
            "\n",
            "Epoch 00027: val_loss did not improve from 1.64667\n",
            "Epoch 28/100\n",
            "782/782 [==============================] - 6s 8ms/step - loss: 1.2112 - accuracy: 0.6412 - val_loss: 1.6967 - val_accuracy: 0.5495\n",
            "\n",
            "Epoch 00028: val_loss did not improve from 1.64667\n",
            "Epoch 29/100\n",
            "782/782 [==============================] - 6s 8ms/step - loss: 1.1853 - accuracy: 0.6448 - val_loss: 1.6985 - val_accuracy: 0.5503\n",
            "\n",
            "Epoch 00029: val_loss did not improve from 1.64667\n",
            "Epoch 30/100\n",
            "782/782 [==============================] - 6s 8ms/step - loss: 1.1784 - accuracy: 0.6482 - val_loss: 1.7497 - val_accuracy: 0.5477\n",
            "\n",
            "Epoch 00030: val_loss did not improve from 1.64667\n",
            "Epoch 31/100\n",
            "782/782 [==============================] - 6s 8ms/step - loss: 1.1485 - accuracy: 0.6558 - val_loss: 1.6894 - val_accuracy: 0.5517\n",
            "\n",
            "Epoch 00031: val_loss did not improve from 1.64667\n",
            "Epoch 32/100\n",
            "782/782 [==============================] - 6s 8ms/step - loss: 1.1350 - accuracy: 0.6618 - val_loss: 1.7199 - val_accuracy: 0.5417\n",
            "\n",
            "Epoch 00032: val_loss did not improve from 1.64667\n",
            "Epoch 33/100\n",
            "782/782 [==============================] - 6s 8ms/step - loss: 1.1159 - accuracy: 0.6634 - val_loss: 1.6822 - val_accuracy: 0.5582\n",
            "\n",
            "Epoch 00033: val_loss did not improve from 1.64667\n",
            "Epoch 34/100\n",
            "782/782 [==============================] - 6s 8ms/step - loss: 1.0978 - accuracy: 0.6688 - val_loss: 1.6832 - val_accuracy: 0.5632\n",
            "\n",
            "Epoch 00034: val_loss did not improve from 1.64667\n",
            "Epoch 35/100\n",
            "782/782 [==============================] - 6s 8ms/step - loss: 1.0892 - accuracy: 0.6713 - val_loss: 1.7015 - val_accuracy: 0.5565\n",
            "\n",
            "Epoch 00035: val_loss did not improve from 1.64667\n",
            "Epoch 00035: early stopping\n"
          ],
          "name": "stdout"
        }
      ]
    },
    {
      "cell_type": "markdown",
      "metadata": {
        "id": "oChXabIKqBKd"
      },
      "source": [
        "#### Visualize history"
      ]
    },
    {
      "cell_type": "code",
      "metadata": {
        "colab": {
          "base_uri": "https://localhost:8080/",
          "height": 283
        },
        "id": "bnRMYSh1Cp6F",
        "outputId": "79be2d29-42c9-4f71-b2d4-df2dc279ad84"
      },
      "source": [
        "import matplotlib.pyplot as plt\n",
        "f,ax=plt.subplots(2,1) #Creates 2 subplots under 1 column\n",
        "\n",
        "#Assign the first subplot to graph training loss and validation loss\n",
        "ax[0].plot(model.history.history['loss'],color='b',label='Training Loss')\n",
        "ax[0].plot(model.history.history['val_loss'],color='r',label='Validation Loss')\n",
        "\n",
        "#Next lets plot the training accuracy and validation accuracy\n",
        "ax[1].plot(model.history.history['accuracy'],color='b',label='Training  Accuracy')\n",
        "ax[1].plot(model.history.history['val_accuracy'],color='r',label='Validation Accuracy')"
      ],
      "execution_count": 7,
      "outputs": [
        {
          "output_type": "execute_result",
          "data": {
            "text/plain": [
              "[<matplotlib.lines.Line2D at 0x7f833eef19d0>]"
            ]
          },
          "metadata": {
            "tags": []
          },
          "execution_count": 7
        },
        {
          "output_type": "display_data",
          "data": {
            "image/png": "[encoded data removed]",
            "text/plain": [
              "<Figure size 432x288 with 2 Axes>"
            ]
          },
          "metadata": {
            "tags": [],
            "needs_background": "light"
          }
        }
      ]
    },
    {
      "cell_type": "markdown",
      "metadata": {
        "id": "92DCaiusC30W"
      },
      "source": [
        "### 중간점검2\n"
      ]
    },
    {
      "cell_type": "markdown",
      "metadata": {
        "id": "zEaUKRkwqGph"
      },
      "source": [
        "#### 비교"
      ]
    },
    {
      "cell_type": "code",
      "metadata": {
        "colab": {
          "base_uri": "https://localhost:8080/"
        },
        "id": "nWj9-ZbGCxN0",
        "outputId": "f4d9ae60-e91f-4e1e-dedb-05d65aed263b"
      },
      "source": [
        "## ANN\n",
        "model_1.predict(X_test)\n",
        "test_loss, test_acc = model_1.evaluate(X_test, y_test, verbose=1)"
      ],
      "execution_count": 15,
      "outputs": [
        {
          "output_type": "stream",
          "text": [
            "313/313 [==============================] - 3s 9ms/step - loss: 1.8161 - accuracy: 0.5672\n"
          ],
          "name": "stdout"
        }
      ]
    },
    {
      "cell_type": "code",
      "metadata": {
        "colab": {
          "base_uri": "https://localhost:8080/"
        },
        "id": "XN9xVf73C6LY",
        "outputId": "c8a6a260-57f1-483e-9549-188f376300cc"
      },
      "source": [
        "## CNN\n",
        "model.predict(X_test)\n",
        "model.evaluate(X_test, y_test, verbose=1)"
      ],
      "execution_count": 19,
      "outputs": [
        {
          "output_type": "stream",
          "text": [
            "313/313 [==============================] - 1s 3ms/step - loss: 1.7015 - accuracy: 0.5565\n"
          ],
          "name": "stdout"
        },
        {
          "output_type": "execute_result",
          "data": {
            "text/plain": [
              "[1.7014621496200562, 0.5565000176429749]"
            ]
          },
          "metadata": {
            "tags": []
          },
          "execution_count": 19
        }
      ]
    },
    {
      "cell_type": "markdown",
      "metadata": {
        "id": "IV7l5XVxDXM8"
      },
      "source": [
        "수많은 변경 끝에 ANN보다 살짝 나은 정도의 성능을 내는 CNN모델을 만들었다. 클래스가 100개인 데이터를 분류하기는 정말 힘들다.\n",
        "\n",
        "ANN이 저렇게 좋을 수 있는 이유가\n",
        "VGG19라는 구조때문이다. 빼고 돌려보자"
      ]
    },
    {
      "cell_type": "markdown",
      "metadata": {
        "id": "FIXcCiMVqINV"
      },
      "source": [
        "#### without vgg19\n"
      ]
    },
    {
      "cell_type": "code",
      "metadata": {
        "colab": {
          "base_uri": "https://localhost:8080/"
        },
        "id": "X0ejcmePFart",
        "outputId": "636e2fd7-25f9-4b56-c0ac-033146172993"
      },
      "source": [
        "## without VGG19\n",
        "from tensorflow.keras.datasets import cifar100\n",
        "from tensorflow.keras.models import Sequential\n",
        "from tensorflow.keras.layers import Dense, Dropout, Flatten\n",
        "from tensorflow.keras.layers import Conv2D, MaxPooling2D, BatchNormalization\n",
        "from tensorflow.keras.utils import to_categorical\n",
        "from tensorflow.keras.preprocessing.image import ImageDataGenerator\n",
        "from sklearn.model_selection import train_test_split\n",
        "import numpy as np\n",
        "import tensorflow as tf\n",
        "\n",
        "batch_size = 128\n",
        "num_classes = 100\n",
        "epochs = 50\n",
        "\n",
        "# 데이터 불러오기\n",
        "np.random.seed(1)\n",
        "tf.random.set_seed(1)\n",
        "(X_train, y_train), (X_test, y_test) = cifar100.load_data()\n",
        "\n",
        "X_train = X_train / 255.0 \n",
        "X_test = X_test / 255.0 \n",
        "\n",
        "# transfer\n",
        "from keras.applications import VGG19, ResNet50\n",
        "from tensorflow.keras.optimizers import Adam, SGD\n",
        "\n",
        "\n",
        "model_1= Sequential()\n",
        "model_1.add(Flatten(input_shape=(32, 32, 3))) \n",
        "\n",
        "model_1.add(Dense(1024,activation=('relu')))\n",
        "model_1.add(Dense(512,activation=('relu'))) \n",
        "model_1.add(Dense(256,activation=('relu'))) \n",
        "model_1.add(Dropout(.3)) #Adding a dropout layer that will randomly drop /30% of the weights\n",
        "model_1.add(Dense(128,activation=('relu')))\n",
        "model_1.add(Dropout(.2))\n",
        "model_1.add(Dense(num_classes,activation=('softmax'))) #This is the classification layer\n",
        "\n",
        "model_1.summary()"
      ],
      "execution_count": 28,
      "outputs": [
        {
          "output_type": "stream",
          "text": [
            "Model: \"sequential_11\"\n",
            "_________________________________________________________________\n",
            "Layer (type)                 Output Shape              Param #   \n",
            "=================================================================\n",
            "flatten_10 (Flatten)         (None, 3072)              0         \n",
            "_________________________________________________________________\n",
            "dense_32 (Dense)             (None, 1024)              3146752   \n",
            "_________________________________________________________________\n",
            "dense_33 (Dense)             (None, 512)               524800    \n",
            "_________________________________________________________________\n",
            "dense_34 (Dense)             (None, 256)               131328    \n",
            "_________________________________________________________________\n",
            "dropout_16 (Dropout)         (None, 256)               0         \n",
            "_________________________________________________________________\n",
            "dense_35 (Dense)             (None, 128)               32896     \n",
            "_________________________________________________________________\n",
            "dropout_17 (Dropout)         (None, 128)               0         \n",
            "_________________________________________________________________\n",
            "dense_36 (Dense)             (None, 100)               12900     \n",
            "=================================================================\n",
            "Total params: 3,848,676\n",
            "Trainable params: 3,848,676\n",
            "Non-trainable params: 0\n",
            "_________________________________________________________________\n"
          ],
          "name": "stdout"
        }
      ]
    },
    {
      "cell_type": "code",
      "metadata": {
        "colab": {
          "base_uri": "https://localhost:8080/"
        },
        "id": "PNurjJUkFg4r",
        "outputId": "7c8fa939-f768-41c4-d916-97f6be7418ba"
      },
      "source": [
        "import keras \n",
        "\n",
        "learn_rate=.001\n",
        "\n",
        "sgd=SGD(lr=learn_rate,momentum=.9,nesterov=False)\n",
        "adam=Adam(lr=learn_rate, beta_1=0.9, beta_2=0.999, epsilon=None, decay=0.0, amsgrad=False)\n",
        "\n",
        "model_1.compile(optimizer=sgd,loss='sparse_categorical_crossentropy',metrics=['accuracy'])\n",
        "\n",
        "early_stop = keras.callbacks.EarlyStopping(monitor='val_loss', min_delta=0, patience=5, verbose=1)\n",
        "\n",
        "model_1.fit(X_train, y_train, batch_size=batch_size,\n",
        "                    validation_data=(X_test, y_test),\n",
        "                    callbacks=[early_stop],\n",
        "                    epochs=epochs, verbose=1)"
      ],
      "execution_count": 29,
      "outputs": [
        {
          "output_type": "stream",
          "text": [
            "Epoch 1/50\n",
            "391/391 [==============================] - 2s 4ms/step - loss: 4.6063 - accuracy: 0.0140 - val_loss: 4.5274 - val_accuracy: 0.0428\n",
            "Epoch 2/50\n",
            "391/391 [==============================] - 1s 4ms/step - loss: 4.5193 - accuracy: 0.0326 - val_loss: 4.3945 - val_accuracy: 0.0497\n",
            "Epoch 3/50\n",
            "391/391 [==============================] - 1s 4ms/step - loss: 4.4042 - accuracy: 0.0451 - val_loss: 4.2527 - val_accuracy: 0.0639\n",
            "Epoch 4/50\n",
            "391/391 [==============================] - 1s 4ms/step - loss: 4.2920 - accuracy: 0.0524 - val_loss: 4.1427 - val_accuracy: 0.0792\n",
            "Epoch 5/50\n",
            "391/391 [==============================] - 1s 4ms/step - loss: 4.2081 - accuracy: 0.0621 - val_loss: 4.0598 - val_accuracy: 0.0945\n",
            "Epoch 6/50\n",
            "391/391 [==============================] - 1s 4ms/step - loss: 4.1309 - accuracy: 0.0696 - val_loss: 3.9836 - val_accuracy: 0.1084\n",
            "Epoch 7/50\n",
            "391/391 [==============================] - 1s 4ms/step - loss: 4.0717 - accuracy: 0.0778 - val_loss: 3.9291 - val_accuracy: 0.1172\n",
            "Epoch 8/50\n",
            "391/391 [==============================] - 1s 4ms/step - loss: 4.0168 - accuracy: 0.0855 - val_loss: 3.8757 - val_accuracy: 0.1216\n",
            "Epoch 9/50\n",
            "391/391 [==============================] - 1s 4ms/step - loss: 3.9636 - accuracy: 0.0925 - val_loss: 3.8410 - val_accuracy: 0.1291\n",
            "Epoch 10/50\n",
            "391/391 [==============================] - 1s 4ms/step - loss: 3.9316 - accuracy: 0.0969 - val_loss: 3.7960 - val_accuracy: 0.1298\n",
            "Epoch 11/50\n",
            "391/391 [==============================] - 1s 4ms/step - loss: 3.8980 - accuracy: 0.1039 - val_loss: 3.7649 - val_accuracy: 0.1403\n",
            "Epoch 12/50\n",
            "391/391 [==============================] - 1s 4ms/step - loss: 3.8592 - accuracy: 0.1096 - val_loss: 3.7386 - val_accuracy: 0.1446\n",
            "Epoch 13/50\n",
            "391/391 [==============================] - 2s 4ms/step - loss: 3.8410 - accuracy: 0.1147 - val_loss: 3.7159 - val_accuracy: 0.1489\n",
            "Epoch 14/50\n",
            "391/391 [==============================] - 1s 4ms/step - loss: 3.8052 - accuracy: 0.1160 - val_loss: 3.6877 - val_accuracy: 0.1516\n",
            "Epoch 15/50\n",
            "391/391 [==============================] - 1s 4ms/step - loss: 3.7812 - accuracy: 0.1273 - val_loss: 3.6700 - val_accuracy: 0.1561\n",
            "Epoch 16/50\n",
            "391/391 [==============================] - 1s 4ms/step - loss: 3.7503 - accuracy: 0.1321 - val_loss: 3.6446 - val_accuracy: 0.1584\n",
            "Epoch 17/50\n",
            "391/391 [==============================] - 1s 4ms/step - loss: 3.7361 - accuracy: 0.1321 - val_loss: 3.6237 - val_accuracy: 0.1589\n",
            "Epoch 18/50\n",
            "391/391 [==============================] - 1s 4ms/step - loss: 3.7128 - accuracy: 0.1328 - val_loss: 3.6004 - val_accuracy: 0.1670\n",
            "Epoch 19/50\n",
            "391/391 [==============================] - 1s 4ms/step - loss: 3.6839 - accuracy: 0.1394 - val_loss: 3.5881 - val_accuracy: 0.1675\n",
            "Epoch 20/50\n",
            "391/391 [==============================] - 1s 4ms/step - loss: 3.6733 - accuracy: 0.1426 - val_loss: 3.5640 - val_accuracy: 0.1751\n",
            "Epoch 21/50\n",
            "391/391 [==============================] - 1s 4ms/step - loss: 3.6507 - accuracy: 0.1437 - val_loss: 3.5517 - val_accuracy: 0.1753\n",
            "Epoch 22/50\n",
            "391/391 [==============================] - 1s 4ms/step - loss: 3.6291 - accuracy: 0.1501 - val_loss: 3.5332 - val_accuracy: 0.1792\n",
            "Epoch 23/50\n",
            "391/391 [==============================] - 1s 4ms/step - loss: 3.6112 - accuracy: 0.1526 - val_loss: 3.5292 - val_accuracy: 0.1763\n",
            "Epoch 24/50\n",
            "391/391 [==============================] - 1s 4ms/step - loss: 3.5884 - accuracy: 0.1581 - val_loss: 3.4971 - val_accuracy: 0.1846\n",
            "Epoch 25/50\n",
            "391/391 [==============================] - 1s 4ms/step - loss: 3.5913 - accuracy: 0.1569 - val_loss: 3.4816 - val_accuracy: 0.1854\n",
            "Epoch 26/50\n",
            "391/391 [==============================] - 2s 4ms/step - loss: 3.5509 - accuracy: 0.1637 - val_loss: 3.4659 - val_accuracy: 0.1882\n",
            "Epoch 27/50\n",
            "391/391 [==============================] - 1s 4ms/step - loss: 3.5380 - accuracy: 0.1667 - val_loss: 3.4663 - val_accuracy: 0.1868\n",
            "Epoch 28/50\n",
            "391/391 [==============================] - 1s 4ms/step - loss: 3.5065 - accuracy: 0.1678 - val_loss: 3.4441 - val_accuracy: 0.1921\n",
            "Epoch 29/50\n",
            "391/391 [==============================] - 1s 4ms/step - loss: 3.4970 - accuracy: 0.1709 - val_loss: 3.4229 - val_accuracy: 0.1941\n",
            "Epoch 30/50\n",
            "391/391 [==============================] - 1s 4ms/step - loss: 3.4821 - accuracy: 0.1747 - val_loss: 3.4254 - val_accuracy: 0.1927\n",
            "Epoch 31/50\n",
            "391/391 [==============================] - 1s 4ms/step - loss: 3.4774 - accuracy: 0.1752 - val_loss: 3.4084 - val_accuracy: 0.1985\n",
            "Epoch 32/50\n",
            "391/391 [==============================] - 2s 4ms/step - loss: 3.4521 - accuracy: 0.1787 - val_loss: 3.3933 - val_accuracy: 0.2000\n",
            "Epoch 33/50\n",
            "391/391 [==============================] - 2s 4ms/step - loss: 3.4319 - accuracy: 0.1819 - val_loss: 3.3777 - val_accuracy: 0.2063\n",
            "Epoch 34/50\n",
            "391/391 [==============================] - 1s 4ms/step - loss: 3.4218 - accuracy: 0.1840 - val_loss: 3.3814 - val_accuracy: 0.1983\n",
            "Epoch 35/50\n",
            "391/391 [==============================] - 1s 4ms/step - loss: 3.4096 - accuracy: 0.1860 - val_loss: 3.3542 - val_accuracy: 0.2067\n",
            "Epoch 36/50\n",
            "391/391 [==============================] - 1s 4ms/step - loss: 3.3907 - accuracy: 0.1906 - val_loss: 3.3678 - val_accuracy: 0.2074\n",
            "Epoch 37/50\n",
            "391/391 [==============================] - 1s 4ms/step - loss: 3.3820 - accuracy: 0.1931 - val_loss: 3.3349 - val_accuracy: 0.2108\n",
            "Epoch 38/50\n",
            "391/391 [==============================] - 1s 4ms/step - loss: 3.3579 - accuracy: 0.1950 - val_loss: 3.3189 - val_accuracy: 0.2165\n",
            "Epoch 39/50\n",
            "391/391 [==============================] - 1s 4ms/step - loss: 3.3368 - accuracy: 0.1964 - val_loss: 3.3069 - val_accuracy: 0.2158\n",
            "Epoch 40/50\n",
            "391/391 [==============================] - 1s 4ms/step - loss: 3.3335 - accuracy: 0.2024 - val_loss: 3.2989 - val_accuracy: 0.2174\n",
            "Epoch 41/50\n",
            "391/391 [==============================] - 1s 4ms/step - loss: 3.3199 - accuracy: 0.2010 - val_loss: 3.3049 - val_accuracy: 0.2176\n",
            "Epoch 42/50\n",
            "391/391 [==============================] - 1s 4ms/step - loss: 3.3150 - accuracy: 0.2001 - val_loss: 3.2867 - val_accuracy: 0.2211\n",
            "Epoch 43/50\n",
            "391/391 [==============================] - 1s 4ms/step - loss: 3.2942 - accuracy: 0.2093 - val_loss: 3.2755 - val_accuracy: 0.2236\n",
            "Epoch 44/50\n",
            "391/391 [==============================] - 1s 4ms/step - loss: 3.2787 - accuracy: 0.2077 - val_loss: 3.2640 - val_accuracy: 0.2250\n",
            "Epoch 45/50\n",
            "391/391 [==============================] - 1s 4ms/step - loss: 3.2664 - accuracy: 0.2086 - val_loss: 3.2724 - val_accuracy: 0.2221\n",
            "Epoch 46/50\n",
            "391/391 [==============================] - 1s 4ms/step - loss: 3.2496 - accuracy: 0.2138 - val_loss: 3.2840 - val_accuracy: 0.2165\n",
            "Epoch 47/50\n",
            "391/391 [==============================] - 1s 4ms/step - loss: 3.2520 - accuracy: 0.2148 - val_loss: 3.2672 - val_accuracy: 0.2235\n",
            "Epoch 48/50\n",
            "391/391 [==============================] - 1s 4ms/step - loss: 3.2404 - accuracy: 0.2137 - val_loss: 3.2499 - val_accuracy: 0.2251\n",
            "Epoch 49/50\n",
            "391/391 [==============================] - 1s 4ms/step - loss: 3.2208 - accuracy: 0.2188 - val_loss: 3.2253 - val_accuracy: 0.2292\n",
            "Epoch 50/50\n",
            "391/391 [==============================] - 1s 4ms/step - loss: 3.2094 - accuracy: 0.2192 - val_loss: 3.2221 - val_accuracy: 0.2316\n"
          ],
          "name": "stdout"
        },
        {
          "output_type": "execute_result",
          "data": {
            "text/plain": [
              "<tensorflow.python.keras.callbacks.History at 0x7f83a5d73c90>"
            ]
          },
          "metadata": {
            "tags": []
          },
          "execution_count": 29
        }
      ]
    },
    {
      "cell_type": "code",
      "metadata": {
        "colab": {
          "base_uri": "https://localhost:8080/"
        },
        "id": "0KuEOPxwG0zO",
        "outputId": "0baf1a56-72cd-4d2e-c9b0-b7b9dfe7fa8e"
      },
      "source": [
        "## ANN\n",
        "model_1.predict(X_test)\n",
        "test_loss, test_acc = model_1.evaluate(X_test, y_test, verbose=1)"
      ],
      "execution_count": 30,
      "outputs": [
        {
          "output_type": "stream",
          "text": [
            "313/313 [==============================] - 1s 2ms/step - loss: 3.2221 - accuracy: 0.2316\n"
          ],
          "name": "stdout"
        }
      ]
    },
    {
      "cell_type": "markdown",
      "metadata": {
        "id": "atWhPh1-Ggld"
      },
      "source": [
        "### VGG19\n",
        "\n",
        "새로만든 CNN의 성능이 문제가 아니었고, VGG19라는 아키텍쳐가 성능이 좋은 것이었다. VGG19구조를 빼고 단순한 인공신경망으로 진행하니 정확도가 반이 떨어졌다. 그렇다면 VGG가 무엇인가? \n",
        "\n",
        "VGG19는 이미지에서 성능이 매우 좋은 pre trained 모델 중에 하나이다. 이미 VGG19라는 architecture에는 convolution을 포함하는 여러개의 블록이 있다. 아래는 VGG19를 CNN으로 직접 구현한 코드이다."
      ]
    },
    {
      "cell_type": "markdown",
      "metadata": {
        "id": "KqoQmNmwIFR1"
      },
      "source": [
        "#### CNN : VGG19 Architecture"
      ]
    },
    {
      "cell_type": "code",
      "metadata": {
        "colab": {
          "base_uri": "https://localhost:8080/"
        },
        "id": "6DeViQLzIQQj",
        "outputId": "f8768acc-311e-4c29-f240-bd266aea4c92"
      },
      "source": [
        "import keras\n",
        "import numpy as np\n",
        "from keras.datasets import cifar100\n",
        "from keras.preprocessing.image import ImageDataGenerator\n",
        "from keras.models import Sequential\n",
        "from keras.layers import Dense, Dropout, Activation, Flatten\n",
        "from keras.layers import Conv2D, MaxPooling2D, GlobalAveragePooling2D, AveragePooling2D\n",
        "from keras.initializers import he_normal\n",
        "from keras import optimizers\n",
        "from keras.callbacks import LearningRateScheduler, TensorBoard\n",
        "from keras.layers.normalization import BatchNormalization\n",
        "from keras.utils.data_utils import get_file\n",
        "import matplotlib.pyplot as plt\n",
        "\n",
        "num_classes = 100\n",
        "batch_size = 128\n",
        "epochs = 50\n",
        "iterations = 391\n",
        "dropout = 0.5\n",
        "weight_decay = 0.0001\n",
        "log_filepath = r'./vgg19_retrain_logs/'\n",
        "\n",
        "\n",
        "def scheduler(epoch):\n",
        "    if epoch < 80:\n",
        "        return 0.1\n",
        "    if epoch < 160:\n",
        "        return 0.01\n",
        "    return 0.001\n",
        "\n",
        "\n",
        "# data loading\n",
        "(x_train, y_train), (x_test, y_test) = cifar100.load_data()\n",
        "y_train = keras.utils.to_categorical(y_train, num_classes)\n",
        "y_test = keras.utils.to_categorical(y_test, num_classes)\n",
        "x_train = x_train.astype('float32')\n",
        "x_test = x_test.astype('float32')\n",
        "\n",
        "# data preprocessing\n",
        "x_train[:, :, :, 0] = (x_train[:, :, :, 0]-123.680)\n",
        "x_train[:, :, :, 1] = (x_train[:, :, :, 1]-116.779)\n",
        "x_train[:, :, :, 2] = (x_train[:, :, :, 2]-103.939)\n",
        "x_test[:, :, :, 0] = (x_test[:, :, :, 0]-123.680)\n",
        "x_test[:, :, :, 1] = (x_test[:, :, :, 1]-116.779)\n",
        "x_test[:, :, :, 2] = (x_test[:, :, :, 2]-103.939)\n",
        "\n",
        "# build model\n",
        "model = Sequential()\n",
        "\n",
        "# Block 1\n",
        "model.add(Conv2D(64, (3, 3), padding='same', kernel_regularizer=keras.regularizers.l2(weight_decay),\n",
        "                 kernel_initializer=he_normal(), name='block1_conv1', input_shape=x_train.shape[1:]))\n",
        "model.add(BatchNormalization())\n",
        "model.add(Activation('relu'))\n",
        "model.add(Conv2D(64, (3, 3), padding='same', kernel_regularizer=keras.regularizers.l2(weight_decay),\n",
        "                 kernel_initializer=he_normal(), name='block1_conv2'))\n",
        "model.add(BatchNormalization())\n",
        "model.add(Activation('relu'))\n",
        "model.add(MaxPooling2D((2, 2), strides=(2, 2), name='block1_pool'))\n",
        "\n",
        "# Block 2\n",
        "model.add(Conv2D(128, (3, 3), padding='same', kernel_regularizer=keras.regularizers.l2(weight_decay),\n",
        "                 kernel_initializer=he_normal(), name='block2_conv1'))\n",
        "model.add(BatchNormalization())\n",
        "model.add(Activation('relu'))\n",
        "model.add(Conv2D(128, (3, 3), padding='same', kernel_regularizer=keras.regularizers.l2(weight_decay),\n",
        "                 kernel_initializer=he_normal(), name='block2_conv2'))\n",
        "model.add(BatchNormalization())\n",
        "model.add(Activation('relu'))\n",
        "model.add(MaxPooling2D((2, 2), strides=(2, 2), name='block2_pool'))\n",
        "\n",
        "# Block 3\n",
        "model.add(Conv2D(256, (3, 3), padding='same', kernel_regularizer=keras.regularizers.l2(weight_decay),\n",
        "                 kernel_initializer=he_normal(), name='block3_conv1'))\n",
        "model.add(BatchNormalization())\n",
        "model.add(Activation('relu'))\n",
        "model.add(Conv2D(256, (3, 3), padding='same', kernel_regularizer=keras.regularizers.l2(weight_decay),\n",
        "                 kernel_initializer=he_normal(), name='block3_conv2'))\n",
        "model.add(BatchNormalization())\n",
        "model.add(Activation('relu'))\n",
        "model.add(Conv2D(256, (3, 3), padding='same', kernel_regularizer=keras.regularizers.l2(weight_decay),\n",
        "                 kernel_initializer=he_normal(), name='block3_conv3'))\n",
        "model.add(BatchNormalization())\n",
        "model.add(Activation('relu'))\n",
        "model.add(Conv2D(256, (3, 3), padding='same', kernel_regularizer=keras.regularizers.l2(weight_decay),\n",
        "                 kernel_initializer=he_normal(), name='block3_conv4'))\n",
        "model.add(BatchNormalization())\n",
        "model.add(Activation('relu'))\n",
        "model.add(MaxPooling2D((2, 2), strides=(2, 2), name='block3_pool'))\n",
        "\n",
        "# Block 4\n",
        "model.add(Conv2D(512, (3, 3), padding='same', kernel_regularizer=keras.regularizers.l2(weight_decay),\n",
        "                 kernel_initializer=he_normal(), name='block4_conv1'))\n",
        "model.add(BatchNormalization())\n",
        "model.add(Activation('relu'))\n",
        "model.add(Conv2D(512, (3, 3), padding='same', kernel_regularizer=keras.regularizers.l2(weight_decay),\n",
        "                 kernel_initializer=he_normal(), name='block4_conv2'))\n",
        "model.add(BatchNormalization())\n",
        "model.add(Activation('relu'))\n",
        "model.add(Conv2D(512, (3, 3), padding='same', kernel_regularizer=keras.regularizers.l2(weight_decay),\n",
        "                 kernel_initializer=he_normal(), name='block4_conv3'))\n",
        "model.add(BatchNormalization())\n",
        "model.add(Activation('relu'))\n",
        "model.add(Conv2D(512, (3, 3), padding='same', kernel_regularizer=keras.regularizers.l2(weight_decay),\n",
        "                 kernel_initializer=he_normal(), name='block4_conv4'))\n",
        "model.add(BatchNormalization())\n",
        "model.add(Activation('relu'))\n",
        "model.add(MaxPooling2D((2, 2), strides=(2, 2), name='block4_pool'))\n",
        "\n",
        "# Block 5\n",
        "model.add(Conv2D(512, (3, 3), padding='same', kernel_regularizer=keras.regularizers.l2(weight_decay),\n",
        "                 kernel_initializer=he_normal(), name='block5_conv1'))\n",
        "model.add(BatchNormalization())\n",
        "model.add(Activation('relu'))\n",
        "model.add(Conv2D(512, (3, 3), padding='same', kernel_regularizer=keras.regularizers.l2(weight_decay),\n",
        "                 kernel_initializer=he_normal(), name='block5_conv2'))\n",
        "model.add(BatchNormalization())\n",
        "model.add(Activation('relu'))\n",
        "model.add(Conv2D(512, (3, 3), padding='same', kernel_regularizer=keras.regularizers.l2(weight_decay),\n",
        "                 kernel_initializer=he_normal(), name='block5_conv3'))\n",
        "model.add(BatchNormalization())\n",
        "model.add(Activation('relu'))\n",
        "model.add(Conv2D(512, (3, 3), padding='same', kernel_regularizer=keras.regularizers.l2(weight_decay),\n",
        "                 kernel_initializer=he_normal(), name='block5_conv4'))\n",
        "model.add(BatchNormalization())\n",
        "model.add(Activation('relu'))\n",
        "model.add(MaxPooling2D((2, 2), strides=(2, 2), name='block5_pool'))\n",
        "\n",
        "# model modification for cifar-10\n",
        "model.add(Flatten(name='flatten'))\n",
        "model.add(Dense(4096, use_bias=True, kernel_regularizer=keras.regularizers.l2(weight_decay),\n",
        "                kernel_initializer=he_normal(), name='fc_cifa10'))\n",
        "model.add(BatchNormalization())\n",
        "model.add(Activation('relu'))\n",
        "model.add(Dropout(dropout))\n",
        "model.add(Dense(4096, kernel_regularizer=keras.regularizers.l2(weight_decay),\n",
        "                kernel_initializer=he_normal(), name='fc2'))\n",
        "model.add(BatchNormalization())\n",
        "model.add(Activation('relu'))\n",
        "model.add(Dropout(dropout))\n",
        "model.add(Dense(100, kernel_regularizer=keras.regularizers.l2(weight_decay),\n",
        "                kernel_initializer=he_normal(), name='predictions_cifa10'))\n",
        "model.add(BatchNormalization())\n",
        "model.add(Activation('softmax'))\n",
        "\n",
        "# load pretrained weight from VGG19 by name\n",
        "# model.load_weights(filepath, by_name=True)\n",
        "\n",
        "# optimizer\n",
        "sgd = optimizers.SGD(lr=.1, momentum=0.9, nesterov=True)\n",
        "model.compile(loss='categorical_crossentropy', optimizer=sgd, metrics=['accuracy'])\n",
        "\n",
        "tb_cb = TensorBoard(log_dir=log_filepath, histogram_freq=0)\n",
        "change_lr = LearningRateScheduler(scheduler)\n",
        "cbks = [change_lr, tb_cb]\n",
        "\n",
        "print('Using real-time data augmentation.')\n",
        "datagen = ImageDataGenerator(horizontal_flip=True,\n",
        "                             width_shift_range=0.125, height_shift_range=0.125, fill_mode='constant', cval=0.)\n",
        "\n",
        "datagen.fit(x_train)"
      ],
      "execution_count": 35,
      "outputs": [
        {
          "output_type": "stream",
          "text": [
            "Using real-time data augmentation.\n"
          ],
          "name": "stdout"
        }
      ]
    },
    {
      "cell_type": "code",
      "metadata": {
        "colab": {
          "base_uri": "https://localhost:8080/"
        },
        "id": "1amK6GJgIfE-",
        "outputId": "daa1b30b-6c8a-448d-ac7f-19024b440240"
      },
      "source": [
        "history = model.fit_generator(datagen.flow(x_train, y_train, batch_size=batch_size),\n",
        "                              steps_per_epoch=iterations,\n",
        "                              epochs=epochs,\n",
        "                              callbacks=cbks,\n",
        "                              validation_data=(x_test, y_test))\n",
        "model.save('retrain.h5')"
      ],
      "execution_count": 37,
      "outputs": [
        {
          "output_type": "stream",
          "text": [
            "/usr/local/lib/python3.7/dist-packages/tensorflow/python/keras/engine/training.py:1844: UserWarning: `Model.fit_generator` is deprecated and will be removed in a future version. Please use `Model.fit`, which supports generators.\n",
            "  warnings.warn('`Model.fit_generator` is deprecated and '\n"
          ],
          "name": "stderr"
        },
        {
          "output_type": "stream",
          "text": [
            "Epoch 1/50\n",
            "391/391 [==============================] - 32s 81ms/step - loss: 7.3109 - accuracy: 0.0165 - val_loss: 7.1567 - val_accuracy: 0.0102\n",
            "Epoch 2/50\n",
            "391/391 [==============================] - 30s 77ms/step - loss: 6.7764 - accuracy: 0.0269 - val_loss: 6.8625 - val_accuracy: 0.0116\n",
            "Epoch 3/50\n",
            "391/391 [==============================] - 30s 77ms/step - loss: 6.1555 - accuracy: 0.0499 - val_loss: 6.1232 - val_accuracy: 0.0467\n",
            "Epoch 4/50\n",
            "391/391 [==============================] - 30s 77ms/step - loss: 5.6922 - accuracy: 0.0732 - val_loss: 5.7532 - val_accuracy: 0.0666\n",
            "Epoch 5/50\n",
            "391/391 [==============================] - 30s 77ms/step - loss: 5.3356 - accuracy: 0.0913 - val_loss: 5.6037 - val_accuracy: 0.0611\n",
            "Epoch 6/50\n",
            "391/391 [==============================] - 30s 77ms/step - loss: 4.9273 - accuracy: 0.1186 - val_loss: 5.1712 - val_accuracy: 0.0853\n",
            "Epoch 7/50\n",
            "391/391 [==============================] - 30s 77ms/step - loss: 4.6097 - accuracy: 0.1451 - val_loss: 4.7377 - val_accuracy: 0.1255\n",
            "Epoch 8/50\n",
            "391/391 [==============================] - 30s 78ms/step - loss: 4.3691 - accuracy: 0.1647 - val_loss: 4.5299 - val_accuracy: 0.1402\n",
            "Epoch 9/50\n",
            "391/391 [==============================] - 30s 77ms/step - loss: 4.1534 - accuracy: 0.1848 - val_loss: 4.6710 - val_accuracy: 0.1198\n",
            "Epoch 10/50\n",
            "391/391 [==============================] - 30s 77ms/step - loss: 3.9815 - accuracy: 0.2026 - val_loss: 4.3792 - val_accuracy: 0.1524\n",
            "Epoch 11/50\n",
            "391/391 [==============================] - 30s 77ms/step - loss: 3.8270 - accuracy: 0.2193 - val_loss: 4.0404 - val_accuracy: 0.1749\n",
            "Epoch 12/50\n",
            "391/391 [==============================] - 30s 77ms/step - loss: 3.7026 - accuracy: 0.2363 - val_loss: 4.3911 - val_accuracy: 0.1475\n",
            "Epoch 13/50\n",
            "391/391 [==============================] - 30s 77ms/step - loss: 3.6011 - accuracy: 0.2508 - val_loss: 4.1332 - val_accuracy: 0.1862\n",
            "Epoch 14/50\n",
            "391/391 [==============================] - 30s 78ms/step - loss: 3.5127 - accuracy: 0.2603 - val_loss: 4.1203 - val_accuracy: 0.1724\n",
            "Epoch 15/50\n",
            "391/391 [==============================] - 30s 77ms/step - loss: 3.4554 - accuracy: 0.2722 - val_loss: 4.3858 - val_accuracy: 0.1787\n",
            "Epoch 16/50\n",
            "391/391 [==============================] - 30s 77ms/step - loss: 3.3632 - accuracy: 0.2872 - val_loss: 3.8423 - val_accuracy: 0.2236\n",
            "Epoch 17/50\n",
            "391/391 [==============================] - 30s 78ms/step - loss: 3.1308 - accuracy: 0.3261 - val_loss: 3.7276 - val_accuracy: 0.2435\n",
            "Epoch 18/50\n",
            "391/391 [==============================] - 30s 78ms/step - loss: 3.0182 - accuracy: 0.3527 - val_loss: 3.7676 - val_accuracy: 0.2470\n",
            "Epoch 19/50\n",
            "391/391 [==============================] - 30s 77ms/step - loss: 2.9466 - accuracy: 0.3695 - val_loss: 3.3528 - val_accuracy: 0.2939\n",
            "Epoch 20/50\n",
            "391/391 [==============================] - 30s 77ms/step - loss: 2.9016 - accuracy: 0.3861 - val_loss: 3.4693 - val_accuracy: 0.3195\n",
            "Epoch 21/50\n",
            "391/391 [==============================] - 30s 77ms/step - loss: 2.8497 - accuracy: 0.4010 - val_loss: 3.2411 - val_accuracy: 0.3496\n",
            "Epoch 22/50\n",
            "391/391 [==============================] - 30s 77ms/step - loss: 2.8095 - accuracy: 0.4161 - val_loss: 3.2159 - val_accuracy: 0.3454\n",
            "Epoch 23/50\n",
            "391/391 [==============================] - 30s 77ms/step - loss: 2.7808 - accuracy: 0.4249 - val_loss: 3.1874 - val_accuracy: 0.3675\n",
            "Epoch 24/50\n",
            "391/391 [==============================] - 30s 78ms/step - loss: 2.7518 - accuracy: 0.4399 - val_loss: 3.7714 - val_accuracy: 0.2925\n",
            "Epoch 25/50\n",
            "391/391 [==============================] - 30s 78ms/step - loss: 2.7426 - accuracy: 0.4470 - val_loss: 3.1391 - val_accuracy: 0.3715\n",
            "Epoch 26/50\n",
            "391/391 [==============================] - 30s 77ms/step - loss: 2.7129 - accuracy: 0.4582 - val_loss: 3.2925 - val_accuracy: 0.3735\n",
            "Epoch 27/50\n",
            "391/391 [==============================] - 30s 77ms/step - loss: 2.6956 - accuracy: 0.4672 - val_loss: 3.1887 - val_accuracy: 0.3942\n",
            "Epoch 28/50\n",
            "391/391 [==============================] - 30s 77ms/step - loss: 2.6825 - accuracy: 0.4771 - val_loss: 3.3062 - val_accuracy: 0.3634\n",
            "Epoch 29/50\n",
            "391/391 [==============================] - 30s 77ms/step - loss: 2.6748 - accuracy: 0.4865 - val_loss: 3.3142 - val_accuracy: 0.3843\n",
            "Epoch 30/50\n",
            "391/391 [==============================] - 30s 77ms/step - loss: 2.6721 - accuracy: 0.4922 - val_loss: 3.3063 - val_accuracy: 0.3877\n",
            "Epoch 31/50\n",
            "391/391 [==============================] - 30s 77ms/step - loss: 2.6603 - accuracy: 0.4988 - val_loss: 3.3107 - val_accuracy: 0.3925\n",
            "Epoch 32/50\n",
            "391/391 [==============================] - 30s 77ms/step - loss: 2.6724 - accuracy: 0.5050 - val_loss: 3.2190 - val_accuracy: 0.4189\n",
            "Epoch 33/50\n",
            "391/391 [==============================] - 30s 77ms/step - loss: 2.6631 - accuracy: 0.5134 - val_loss: 3.3537 - val_accuracy: 0.3832\n",
            "Epoch 34/50\n",
            "391/391 [==============================] - 30s 78ms/step - loss: 2.6513 - accuracy: 0.5192 - val_loss: 3.7894 - val_accuracy: 0.3499\n",
            "Epoch 35/50\n",
            "391/391 [==============================] - 30s 77ms/step - loss: 2.6569 - accuracy: 0.5261 - val_loss: 3.3670 - val_accuracy: 0.3926\n",
            "Epoch 36/50\n",
            "391/391 [==============================] - 30s 77ms/step - loss: 2.6482 - accuracy: 0.5306 - val_loss: 3.5680 - val_accuracy: 0.3654\n",
            "Epoch 37/50\n",
            "391/391 [==============================] - 30s 77ms/step - loss: 2.6614 - accuracy: 0.5322 - val_loss: 3.1382 - val_accuracy: 0.4521\n",
            "Epoch 38/50\n",
            "391/391 [==============================] - 30s 77ms/step - loss: 2.6295 - accuracy: 0.5425 - val_loss: 3.6199 - val_accuracy: 0.3821\n",
            "Epoch 39/50\n",
            "391/391 [==============================] - 30s 77ms/step - loss: 2.6532 - accuracy: 0.5432 - val_loss: 3.6716 - val_accuracy: 0.3532\n",
            "Epoch 40/50\n",
            "391/391 [==============================] - 30s 77ms/step - loss: 2.6603 - accuracy: 0.5464 - val_loss: 3.2486 - val_accuracy: 0.4527\n",
            "Epoch 41/50\n",
            "391/391 [==============================] - 30s 77ms/step - loss: 2.6392 - accuracy: 0.5560 - val_loss: 3.4614 - val_accuracy: 0.4195\n",
            "Epoch 42/50\n",
            "391/391 [==============================] - 30s 77ms/step - loss: 2.6418 - accuracy: 0.5585 - val_loss: 3.5181 - val_accuracy: 0.3993\n",
            "Epoch 43/50\n",
            "391/391 [==============================] - 30s 77ms/step - loss: 2.6559 - accuracy: 0.5599 - val_loss: 3.1851 - val_accuracy: 0.4638\n",
            "Epoch 44/50\n",
            "391/391 [==============================] - 30s 77ms/step - loss: 2.6636 - accuracy: 0.5631 - val_loss: 3.2684 - val_accuracy: 0.4505\n",
            "Epoch 45/50\n",
            "391/391 [==============================] - 30s 78ms/step - loss: 2.6530 - accuracy: 0.5703 - val_loss: 3.7179 - val_accuracy: 0.3680\n",
            "Epoch 46/50\n",
            "391/391 [==============================] - 30s 77ms/step - loss: 2.6592 - accuracy: 0.5706 - val_loss: 4.0990 - val_accuracy: 0.3406\n",
            "Epoch 47/50\n",
            "391/391 [==============================] - 30s 77ms/step - loss: 2.6632 - accuracy: 0.5769 - val_loss: 3.3018 - val_accuracy: 0.4589\n",
            "Epoch 48/50\n",
            "391/391 [==============================] - 30s 77ms/step - loss: 2.6713 - accuracy: 0.5767 - val_loss: 3.3331 - val_accuracy: 0.4551\n",
            "Epoch 49/50\n",
            "391/391 [==============================] - 30s 78ms/step - loss: 2.6850 - accuracy: 0.5764 - val_loss: 4.0678 - val_accuracy: 0.3448\n",
            "Epoch 50/50\n",
            "391/391 [==============================] - 30s 77ms/step - loss: 2.6652 - accuracy: 0.5838 - val_loss: 3.7086 - val_accuracy: 0.4099\n"
          ],
          "name": "stdout"
        }
      ]
    },
    {
      "cell_type": "code",
      "metadata": {
        "colab": {
          "base_uri": "https://localhost:8080/",
          "height": 281
        },
        "id": "KnMhnrxXI3XP",
        "outputId": "08902b77-c765-4624-a102-16310bbfa152"
      },
      "source": [
        "loss = history.history.get('loss')\n",
        "acc = history.history.get('accuracy')\n",
        "val_loss = history.history.get('val_loss')\n",
        "val_acc = history.history.get('val_accuracy')\n",
        "\n",
        "plt.figure(0)\n",
        "plt.subplot(121)\n",
        "plt.plot(range(len(loss)), loss, label=\"Training\")\n",
        "plt.plot(range(len(val_loss)), val_loss, label='Validation')\n",
        "plt.title('Loss')\n",
        "plt.legend(loc='upper left')\n",
        "plt.subplot(122)\n",
        "plt.plot(range(len(acc)), acc, label='Training')\n",
        "plt.plot(range(len(val_acc)), val_acc, label='Validation')\n",
        "plt.title('Accuracy')\n",
        "plt.show()"
      ],
      "execution_count": 41,
      "outputs": [
        {
          "output_type": "display_data",
          "data": {
            "image/png": "[encoded data removed]",
            "text/plain": [
              "<Figure size 432x288 with 2 Axes>"
            ]
          },
          "metadata": {
            "tags": [],
            "needs_background": "light"
          }
        }
      ]
    },
    {
      "cell_type": "markdown",
      "metadata": {
        "id": "rLpYuq1iYKEs"
      },
      "source": [
        "#### VGG19 구조파악하기"
      ]
    },
    {
      "cell_type": "code",
      "metadata": {
        "colab": {
          "base_uri": "https://localhost:8080/"
        },
        "id": "v39zDLh2WjJh",
        "outputId": "7c0d07b2-dbb8-4a5e-f25e-5b4d469da08d"
      },
      "source": [
        "from keras.applications.vgg19 import VGG19\n",
        "get_inside = VGG19()\n",
        "print(get_inside.summary())"
      ],
      "execution_count": 44,
      "outputs": [
        {
          "output_type": "stream",
          "text": [
            "Downloading data from https://storage.googleapis.com/tensorflow/keras-applications/vgg19/vgg19_weights_tf_dim_ordering_tf_kernels.h5\n",
            "574717952/574710816 [==============================] - 5s 0us/step\n",
            "Model: \"vgg19\"\n",
            "_________________________________________________________________\n",
            "Layer (type)                 Output Shape              Param #   \n",
            "=================================================================\n",
            "input_3 (InputLayer)         [(None, 224, 224, 3)]     0         \n",
            "_________________________________________________________________\n",
            "block1_conv1 (Conv2D)        (None, 224, 224, 64)      1792      \n",
            "_________________________________________________________________\n",
            "block1_conv2 (Conv2D)        (None, 224, 224, 64)      36928     \n",
            "_________________________________________________________________\n",
            "block1_pool (MaxPooling2D)   (None, 112, 112, 64)      0         \n",
            "_________________________________________________________________\n",
            "block2_conv1 (Conv2D)        (None, 112, 112, 128)     73856     \n",
            "_________________________________________________________________\n",
            "block2_conv2 (Conv2D)        (None, 112, 112, 128)     147584    \n",
            "_________________________________________________________________\n",
            "block2_pool (MaxPooling2D)   (None, 56, 56, 128)       0         \n",
            "_________________________________________________________________\n",
            "block3_conv1 (Conv2D)        (None, 56, 56, 256)       295168    \n",
            "_________________________________________________________________\n",
            "block3_conv2 (Conv2D)        (None, 56, 56, 256)       590080    \n",
            "_________________________________________________________________\n",
            "block3_conv3 (Conv2D)        (None, 56, 56, 256)       590080    \n",
            "_________________________________________________________________\n",
            "block3_conv4 (Conv2D)        (None, 56, 56, 256)       590080    \n",
            "_________________________________________________________________\n",
            "block3_pool (MaxPooling2D)   (None, 28, 28, 256)       0         \n",
            "_________________________________________________________________\n",
            "block4_conv1 (Conv2D)        (None, 28, 28, 512)       1180160   \n",
            "_________________________________________________________________\n",
            "block4_conv2 (Conv2D)        (None, 28, 28, 512)       2359808   \n",
            "_________________________________________________________________\n",
            "block4_conv3 (Conv2D)        (None, 28, 28, 512)       2359808   \n",
            "_________________________________________________________________\n",
            "block4_conv4 (Conv2D)        (None, 28, 28, 512)       2359808   \n",
            "_________________________________________________________________\n",
            "block4_pool (MaxPooling2D)   (None, 14, 14, 512)       0         \n",
            "_________________________________________________________________\n",
            "block5_conv1 (Conv2D)        (None, 14, 14, 512)       2359808   \n",
            "_________________________________________________________________\n",
            "block5_conv2 (Conv2D)        (None, 14, 14, 512)       2359808   \n",
            "_________________________________________________________________\n",
            "block5_conv3 (Conv2D)        (None, 14, 14, 512)       2359808   \n",
            "_________________________________________________________________\n",
            "block5_conv4 (Conv2D)        (None, 14, 14, 512)       2359808   \n",
            "_________________________________________________________________\n",
            "block5_pool (MaxPooling2D)   (None, 7, 7, 512)         0         \n",
            "_________________________________________________________________\n",
            "flatten (Flatten)            (None, 25088)             0         \n",
            "_________________________________________________________________\n",
            "fc1 (Dense)                  (None, 4096)              102764544 \n",
            "_________________________________________________________________\n",
            "fc2 (Dense)                  (None, 4096)              16781312  \n",
            "_________________________________________________________________\n",
            "predictions (Dense)          (None, 1000)              4097000   \n",
            "=================================================================\n",
            "Total params: 143,667,240\n",
            "Trainable params: 143,667,240\n",
            "Non-trainable params: 0\n",
            "_________________________________________________________________\n",
            "None\n"
          ],
          "name": "stdout"
        }
      ]
    },
    {
      "cell_type": "markdown",
      "metadata": {
        "id": "4o4l9s_SkFhc"
      },
      "source": [
        "VGG19를 import하면 구조자체를바꾸는 것입니다."
      ]
    },
    {
      "cell_type": "markdown",
      "metadata": {
        "id": "CG8v924wtO6T"
      },
      "source": [
        "### CV"
      ]
    },
    {
      "cell_type": "code",
      "metadata": {
        "colab": {
          "base_uri": "https://localhost:8080/"
        },
        "id": "Zu-PiXqotQUo",
        "outputId": "634a2a14-d621-444e-9c4c-70d2386e395c"
      },
      "source": [
        "import keras \n",
        "import tensorflow as tf\n",
        "import numpy as np\n",
        "from keras.applications import VGG19, ResNet50\n",
        "from tensorflow.keras.optimizers import Adam, SGD\n",
        "from tensorflow.keras.datasets import cifar100\n",
        "from tensorflow.keras.models import Sequential\n",
        "from tensorflow.keras.layers import Dense, Dropout, Flatten\n",
        "from tensorflow.keras.layers import Conv2D, MaxPooling2D, BatchNormalization\n",
        "from tensorflow.keras.utils import to_categorical\n",
        "from tensorflow.keras.preprocessing.image import ImageDataGenerator\n",
        "from sklearn.model_selection import StratifiedKFold\n",
        "\n",
        "## init\n",
        "batch_size = 128\n",
        "num_classes = 100\n",
        "epochs = 50\n",
        "learn_rate=.001\n",
        "n_fold=5\n",
        "\n",
        "sgd=SGD(lr=learn_rate,momentum=.9,nesterov=False)\n",
        "adam=Adam(lr=learn_rate, beta_1=0.9, beta_2=0.999, epsilon=None, decay=0.0, amsgrad=False)\n",
        "\n",
        "early_stop = keras.callbacks.EarlyStopping(monitor='val_loss', min_delta=0, patience=5, verbose=1)\n",
        "\n",
        "skf = StratifiedKFold(n_splits=n_fold, shuffle=True, random_state=42)\n",
        "\n",
        "accuracy=[]\n",
        "\n",
        "## load data\n",
        "np.random.seed(1)\n",
        "tf.random.set_seed(1)\n",
        "(X_train, y_train), (X_test, y_test) = cifar100.load_data()\n",
        "\n",
        "X_train = X_train / 255.0 \n",
        "X_test = X_test / 255.0 \n",
        "\n",
        "\n",
        "# transfer\n",
        "for train, val in skf.split(X_train,y_train):\n",
        "  base_model_1 = VGG19(include_top=False, weights='imagenet', input_shape=(32,32,3), classes=y_train.shape[1])\n",
        "\n",
        "  model_1= Sequential()\n",
        "  model_1.add(base_model_1) \n",
        "  model_1.add(Flatten()) \n",
        "\n",
        "  model_1.add(Dense(1024,activation=('relu'),input_dim=512))\n",
        "  model_1.add(Dense(512,activation=('relu'))) \n",
        "  model_1.add(Dense(256,activation=('relu'))) \n",
        "  model_1.add(Dropout(.3)) #Adding a dropout layer that will randomly drop /30% of the weights\n",
        "  model_1.add(Dense(128,activation=('relu')))\n",
        "  model_1.add(Dropout(.2))\n",
        "  model_1.add(Dense(num_classes,activation=('softmax'))) #This is the classification layer\n",
        "\n",
        "  model_1.compile(optimizer=sgd\n",
        "                  ,loss='sparse_categorical_crossentropy'\n",
        "                  ,metrics=['accuracy'])\n",
        "\n",
        "\n",
        "  history = model_1.fit(X_train, y_train\n",
        "                        , batch_size=batch_size\n",
        "                        , validation_data=(X_test, y_test)\n",
        "                        , callbacks=[early_stop]\n",
        "                        , epochs=epochs\n",
        "                        , verbose=1)\n",
        "\n",
        "  accuracy_history = history.history['accuracy']\n",
        "  val_accuracy_history = history.history['val_accuracy']\n",
        "  \n",
        "  k_accuracy = f\"{model.evaluate(X_train[val],y_train[val])[1]:.4f}\"\n",
        "  accuracy.append([k_accuracy,accuracy_history,val_accuracy_history])"
      ],
      "execution_count": 14,
      "outputs": [
        {
          "output_type": "stream",
          "text": [
            "Epoch 1/50\n",
            "391/391 [==============================] - 25s 45ms/step - loss: 4.5609 - accuracy: 0.0206 - val_loss: 3.9638 - val_accuracy: 0.1343\n",
            "Epoch 2/50\n",
            "391/391 [==============================] - 17s 42ms/step - loss: 3.9222 - accuracy: 0.1168 - val_loss: 3.0913 - val_accuracy: 0.2645\n",
            "Epoch 3/50\n",
            "391/391 [==============================] - 16s 42ms/step - loss: 3.2820 - accuracy: 0.2205 - val_loss: 2.6855 - val_accuracy: 0.3293\n",
            "Epoch 4/50\n",
            "391/391 [==============================] - 17s 42ms/step - loss: 2.8552 - accuracy: 0.2864 - val_loss: 2.3965 - val_accuracy: 0.3838\n",
            "Epoch 5/50\n",
            "391/391 [==============================] - 17s 42ms/step - loss: 2.5707 - accuracy: 0.3422 - val_loss: 2.2818 - val_accuracy: 0.4144\n",
            "Epoch 6/50\n",
            "391/391 [==============================] - 17s 42ms/step - loss: 2.3501 - accuracy: 0.3879 - val_loss: 2.1162 - val_accuracy: 0.4428\n",
            "Epoch 7/50\n",
            "391/391 [==============================] - 17s 42ms/step - loss: 2.1755 - accuracy: 0.4280 - val_loss: 2.0255 - val_accuracy: 0.4632\n",
            "Epoch 8/50\n",
            "391/391 [==============================] - 17s 42ms/step - loss: 2.0271 - accuracy: 0.4629 - val_loss: 1.9276 - val_accuracy: 0.4780\n",
            "Epoch 9/50\n",
            "391/391 [==============================] - 16s 42ms/step - loss: 1.9026 - accuracy: 0.4915 - val_loss: 1.8661 - val_accuracy: 0.4988\n",
            "Epoch 10/50\n",
            "391/391 [==============================] - 16s 42ms/step - loss: 1.8023 - accuracy: 0.5132 - val_loss: 1.8611 - val_accuracy: 0.5060\n",
            "Epoch 11/50\n",
            "391/391 [==============================] - 17s 42ms/step - loss: 1.7002 - accuracy: 0.5370 - val_loss: 1.7721 - val_accuracy: 0.5234\n",
            "Epoch 12/50\n",
            "391/391 [==============================] - 17s 42ms/step - loss: 1.5679 - accuracy: 0.5684 - val_loss: 1.7698 - val_accuracy: 0.5347\n",
            "Epoch 13/50\n",
            "391/391 [==============================] - 17s 42ms/step - loss: 1.4895 - accuracy: 0.5859 - val_loss: 1.6929 - val_accuracy: 0.5405\n",
            "Epoch 14/50\n",
            "391/391 [==============================] - 17s 42ms/step - loss: 1.3833 - accuracy: 0.6146 - val_loss: 1.7149 - val_accuracy: 0.5434\n",
            "Epoch 15/50\n",
            "391/391 [==============================] - 17s 42ms/step - loss: 1.2945 - accuracy: 0.6325 - val_loss: 1.7166 - val_accuracy: 0.5494\n",
            "Epoch 16/50\n",
            "391/391 [==============================] - 16s 42ms/step - loss: 1.2146 - accuracy: 0.6543 - val_loss: 1.7006 - val_accuracy: 0.5543\n",
            "Epoch 17/50\n",
            "391/391 [==============================] - 17s 42ms/step - loss: 1.1392 - accuracy: 0.6716 - val_loss: 1.7112 - val_accuracy: 0.5542\n",
            "Epoch 18/50\n",
            "391/391 [==============================] - 17s 42ms/step - loss: 1.0553 - accuracy: 0.6966 - val_loss: 1.7525 - val_accuracy: 0.5514\n",
            "Epoch 00018: early stopping\n",
            "313/313 [==============================] - 1s 2ms/step - loss: 3.0567 - accuracy: 0.2559\n",
            "Epoch 1/50\n",
            "391/391 [==============================] - 18s 43ms/step - loss: 4.5678 - accuracy: 0.0183 - val_loss: 3.9999 - val_accuracy: 0.1254\n",
            "Epoch 2/50\n",
            "391/391 [==============================] - 17s 42ms/step - loss: 3.9703 - accuracy: 0.1110 - val_loss: 3.2110 - val_accuracy: 0.2387\n",
            "Epoch 3/50\n",
            "391/391 [==============================] - 17s 42ms/step - loss: 3.3475 - accuracy: 0.2012 - val_loss: 2.7307 - val_accuracy: 0.3174\n",
            "Epoch 4/50\n",
            "391/391 [==============================] - 17s 42ms/step - loss: 2.9195 - accuracy: 0.2806 - val_loss: 2.4478 - val_accuracy: 0.3745\n",
            "Epoch 5/50\n",
            "391/391 [==============================] - 17s 42ms/step - loss: 2.6402 - accuracy: 0.3322 - val_loss: 2.3616 - val_accuracy: 0.3912\n",
            "Epoch 6/50\n",
            "391/391 [==============================] - 17s 42ms/step - loss: 2.3826 - accuracy: 0.3824 - val_loss: 2.2094 - val_accuracy: 0.4322\n",
            "Epoch 7/50\n",
            "391/391 [==============================] - 17s 42ms/step - loss: 2.2368 - accuracy: 0.4172 - val_loss: 2.0135 - val_accuracy: 0.4689\n",
            "Epoch 8/50\n",
            "391/391 [==============================] - 17s 42ms/step - loss: 2.0538 - accuracy: 0.4558 - val_loss: 1.9862 - val_accuracy: 0.4704\n",
            "Epoch 9/50\n",
            "391/391 [==============================] - 17s 42ms/step - loss: 1.9149 - accuracy: 0.4853 - val_loss: 1.8973 - val_accuracy: 0.4923\n",
            "Epoch 10/50\n",
            "391/391 [==============================] - 17s 42ms/step - loss: 1.8188 - accuracy: 0.5133 - val_loss: 1.8324 - val_accuracy: 0.5039\n",
            "Epoch 11/50\n",
            "391/391 [==============================] - 17s 42ms/step - loss: 1.7201 - accuracy: 0.5283 - val_loss: 1.7575 - val_accuracy: 0.5265\n",
            "Epoch 12/50\n",
            "391/391 [==============================] - 17s 42ms/step - loss: 1.6045 - accuracy: 0.5628 - val_loss: 1.7541 - val_accuracy: 0.5317\n",
            "Epoch 13/50\n",
            "391/391 [==============================] - 17s 42ms/step - loss: 1.4953 - accuracy: 0.5824 - val_loss: 1.6996 - val_accuracy: 0.5420\n",
            "Epoch 14/50\n",
            "391/391 [==============================] - 17s 43ms/step - loss: 1.4119 - accuracy: 0.6093 - val_loss: 1.7528 - val_accuracy: 0.5415\n",
            "Epoch 15/50\n",
            "391/391 [==============================] - 17s 42ms/step - loss: 1.3334 - accuracy: 0.6247 - val_loss: 1.6987 - val_accuracy: 0.5539\n",
            "Epoch 16/50\n",
            "391/391 [==============================] - 17s 42ms/step - loss: 1.2128 - accuracy: 0.6525 - val_loss: 1.7274 - val_accuracy: 0.5536\n",
            "Epoch 17/50\n",
            "391/391 [==============================] - 17s 42ms/step - loss: 1.1524 - accuracy: 0.6670 - val_loss: 1.6743 - val_accuracy: 0.5573\n",
            "Epoch 18/50\n",
            "391/391 [==============================] - 17s 42ms/step - loss: 1.0899 - accuracy: 0.6841 - val_loss: 1.7541 - val_accuracy: 0.5503\n",
            "Epoch 19/50\n",
            "391/391 [==============================] - 17s 42ms/step - loss: 1.0040 - accuracy: 0.7092 - val_loss: 1.7858 - val_accuracy: 0.5539\n",
            "Epoch 20/50\n",
            "391/391 [==============================] - 17s 42ms/step - loss: 0.9096 - accuracy: 0.7296 - val_loss: 1.7517 - val_accuracy: 0.5611\n",
            "Epoch 21/50\n",
            "391/391 [==============================] - 17s 42ms/step - loss: 0.8427 - accuracy: 0.7499 - val_loss: 1.7593 - val_accuracy: 0.5687\n",
            "Epoch 22/50\n",
            "391/391 [==============================] - 17s 42ms/step - loss: 0.7943 - accuracy: 0.7619 - val_loss: 1.8565 - val_accuracy: 0.5600\n",
            "Epoch 00022: early stopping\n",
            "313/313 [==============================] - 1s 2ms/step - loss: 3.0725 - accuracy: 0.2459\n",
            "Epoch 1/50\n",
            "391/391 [==============================] - 18s 43ms/step - loss: 4.5715 - accuracy: 0.0184 - val_loss: 3.9728 - val_accuracy: 0.1100\n",
            "Epoch 2/50\n",
            "391/391 [==============================] - 17s 42ms/step - loss: 3.9489 - accuracy: 0.1104 - val_loss: 3.2192 - val_accuracy: 0.2482\n",
            "Epoch 3/50\n",
            "391/391 [==============================] - 17s 42ms/step - loss: 3.3309 - accuracy: 0.2063 - val_loss: 2.6299 - val_accuracy: 0.3362\n",
            "Epoch 4/50\n",
            "391/391 [==============================] - 17s 42ms/step - loss: 2.8910 - accuracy: 0.2814 - val_loss: 2.4005 - val_accuracy: 0.3837\n",
            "Epoch 5/50\n",
            "391/391 [==============================] - 17s 42ms/step - loss: 2.6002 - accuracy: 0.3385 - val_loss: 2.2784 - val_accuracy: 0.4133\n",
            "Epoch 6/50\n",
            "391/391 [==============================] - 17s 42ms/step - loss: 2.3709 - accuracy: 0.3839 - val_loss: 2.1342 - val_accuracy: 0.4395\n",
            "Epoch 7/50\n",
            "391/391 [==============================] - 17s 42ms/step - loss: 2.2175 - accuracy: 0.4214 - val_loss: 2.0552 - val_accuracy: 0.4607\n",
            "Epoch 8/50\n",
            "391/391 [==============================] - 17s 42ms/step - loss: 2.0758 - accuracy: 0.4537 - val_loss: 1.9575 - val_accuracy: 0.4778\n",
            "Epoch 9/50\n",
            "391/391 [==============================] - 17s 42ms/step - loss: 1.9350 - accuracy: 0.4800 - val_loss: 1.9080 - val_accuracy: 0.4912\n",
            "Epoch 10/50\n",
            "391/391 [==============================] - 17s 42ms/step - loss: 1.8199 - accuracy: 0.5084 - val_loss: 1.8845 - val_accuracy: 0.4937\n",
            "Epoch 11/50\n",
            "391/391 [==============================] - 17s 42ms/step - loss: 1.7115 - accuracy: 0.5342 - val_loss: 1.7710 - val_accuracy: 0.5206\n",
            "Epoch 12/50\n",
            "391/391 [==============================] - 17s 42ms/step - loss: 1.6048 - accuracy: 0.5624 - val_loss: 1.8036 - val_accuracy: 0.5192\n",
            "Epoch 13/50\n",
            "391/391 [==============================] - 17s 42ms/step - loss: 1.4930 - accuracy: 0.5859 - val_loss: 1.7410 - val_accuracy: 0.5321\n",
            "Epoch 14/50\n",
            "391/391 [==============================] - 17s 42ms/step - loss: 1.4177 - accuracy: 0.6021 - val_loss: 1.7223 - val_accuracy: 0.5437\n",
            "Epoch 15/50\n",
            "391/391 [==============================] - 17s 42ms/step - loss: 1.3229 - accuracy: 0.6236 - val_loss: 1.7264 - val_accuracy: 0.5489\n",
            "Epoch 16/50\n",
            "391/391 [==============================] - 17s 42ms/step - loss: 1.2325 - accuracy: 0.6462 - val_loss: 1.7110 - val_accuracy: 0.5577\n",
            "Epoch 17/50\n",
            "391/391 [==============================] - 17s 42ms/step - loss: 1.1553 - accuracy: 0.6668 - val_loss: 1.7180 - val_accuracy: 0.5598\n",
            "Epoch 18/50\n",
            "391/391 [==============================] - 17s 42ms/step - loss: 1.0946 - accuracy: 0.6856 - val_loss: 1.6903 - val_accuracy: 0.5709\n",
            "Epoch 19/50\n",
            "391/391 [==============================] - 17s 42ms/step - loss: 1.0180 - accuracy: 0.7038 - val_loss: 1.8219 - val_accuracy: 0.5545\n",
            "Epoch 20/50\n",
            "391/391 [==============================] - 17s 42ms/step - loss: 0.9314 - accuracy: 0.7231 - val_loss: 1.7924 - val_accuracy: 0.5655\n",
            "Epoch 21/50\n",
            "391/391 [==============================] - 17s 42ms/step - loss: 0.8637 - accuracy: 0.7452 - val_loss: 1.7420 - val_accuracy: 0.5744\n",
            "Epoch 22/50\n",
            "391/391 [==============================] - 17s 42ms/step - loss: 0.8013 - accuracy: 0.7594 - val_loss: 1.8317 - val_accuracy: 0.5742\n",
            "Epoch 23/50\n",
            "391/391 [==============================] - 17s 42ms/step - loss: 0.7299 - accuracy: 0.7798 - val_loss: 1.9445 - val_accuracy: 0.5654\n",
            "Epoch 00023: early stopping\n",
            "313/313 [==============================] - 1s 2ms/step - loss: 3.0318 - accuracy: 0.2549\n",
            "Epoch 1/50\n",
            "391/391 [==============================] - 18s 43ms/step - loss: 4.5467 - accuracy: 0.0232 - val_loss: 3.9592 - val_accuracy: 0.1320\n",
            "Epoch 2/50\n",
            "391/391 [==============================] - 17s 42ms/step - loss: 3.9339 - accuracy: 0.1169 - val_loss: 3.1786 - val_accuracy: 0.2564\n",
            "Epoch 3/50\n",
            "391/391 [==============================] - 17s 42ms/step - loss: 3.2921 - accuracy: 0.2148 - val_loss: 2.6992 - val_accuracy: 0.3306\n",
            "Epoch 4/50\n",
            "391/391 [==============================] - 17s 42ms/step - loss: 2.8523 - accuracy: 0.2908 - val_loss: 2.3550 - val_accuracy: 0.3889\n",
            "Epoch 5/50\n",
            "391/391 [==============================] - 17s 43ms/step - loss: 2.5588 - accuracy: 0.3491 - val_loss: 2.1941 - val_accuracy: 0.4249\n",
            "Epoch 6/50\n",
            "391/391 [==============================] - 17s 42ms/step - loss: 2.3188 - accuracy: 0.3931 - val_loss: 2.1044 - val_accuracy: 0.4413\n",
            "Epoch 7/50\n",
            "391/391 [==============================] - 17s 42ms/step - loss: 2.1589 - accuracy: 0.4337 - val_loss: 1.9852 - val_accuracy: 0.4689\n",
            "Epoch 8/50\n",
            "391/391 [==============================] - 17s 43ms/step - loss: 2.0091 - accuracy: 0.4665 - val_loss: 1.8929 - val_accuracy: 0.4949\n",
            "Epoch 9/50\n",
            "391/391 [==============================] - 17s 42ms/step - loss: 1.8688 - accuracy: 0.4965 - val_loss: 1.9498 - val_accuracy: 0.4824\n",
            "Epoch 10/50\n",
            "391/391 [==============================] - 17s 42ms/step - loss: 1.7785 - accuracy: 0.5163 - val_loss: 1.8935 - val_accuracy: 0.5035\n",
            "Epoch 11/50\n",
            "391/391 [==============================] - 17s 42ms/step - loss: 1.6756 - accuracy: 0.5411 - val_loss: 1.8026 - val_accuracy: 0.5192\n",
            "Epoch 12/50\n",
            "391/391 [==============================] - 17s 42ms/step - loss: 1.5720 - accuracy: 0.5670 - val_loss: 1.7969 - val_accuracy: 0.5206\n",
            "Epoch 13/50\n",
            "391/391 [==============================] - 17s 42ms/step - loss: 1.4560 - accuracy: 0.5915 - val_loss: 1.7160 - val_accuracy: 0.5385\n",
            "Epoch 14/50\n",
            "391/391 [==============================] - 17s 42ms/step - loss: 1.3800 - accuracy: 0.6111 - val_loss: 1.7214 - val_accuracy: 0.5459\n",
            "Epoch 15/50\n",
            "391/391 [==============================] - 17s 42ms/step - loss: 1.2955 - accuracy: 0.6317 - val_loss: 1.6922 - val_accuracy: 0.5635\n",
            "Epoch 16/50\n",
            "391/391 [==============================] - 17s 42ms/step - loss: 1.2064 - accuracy: 0.6531 - val_loss: 1.6535 - val_accuracy: 0.5635\n",
            "Epoch 17/50\n",
            "391/391 [==============================] - 17s 43ms/step - loss: 1.1198 - accuracy: 0.6713 - val_loss: 1.7038 - val_accuracy: 0.5668\n",
            "Epoch 18/50\n",
            "391/391 [==============================] - 17s 42ms/step - loss: 1.0583 - accuracy: 0.6907 - val_loss: 1.7797 - val_accuracy: 0.5573\n",
            "Epoch 19/50\n",
            "391/391 [==============================] - 17s 42ms/step - loss: 0.9811 - accuracy: 0.7133 - val_loss: 1.7713 - val_accuracy: 0.5605\n",
            "Epoch 20/50\n",
            "391/391 [==============================] - 17s 42ms/step - loss: 0.9177 - accuracy: 0.7286 - val_loss: 1.7134 - val_accuracy: 0.5708\n",
            "Epoch 21/50\n",
            "391/391 [==============================] - 17s 42ms/step - loss: 0.8245 - accuracy: 0.7557 - val_loss: 1.7667 - val_accuracy: 0.5725\n",
            "Epoch 00021: early stopping\n",
            "313/313 [==============================] - 1s 2ms/step - loss: 3.0478 - accuracy: 0.2600\n",
            "Epoch 1/50\n",
            "391/391 [==============================] - 18s 43ms/step - loss: 4.5685 - accuracy: 0.0184 - val_loss: 4.0195 - val_accuracy: 0.1222\n",
            "Epoch 2/50\n",
            "391/391 [==============================] - 17s 43ms/step - loss: 3.9467 - accuracy: 0.1099 - val_loss: 3.1922 - val_accuracy: 0.2532\n",
            "Epoch 3/50\n",
            "391/391 [==============================] - 17s 43ms/step - loss: 3.3320 - accuracy: 0.2070 - val_loss: 2.6950 - val_accuracy: 0.3269\n",
            "Epoch 4/50\n",
            "391/391 [==============================] - 17s 43ms/step - loss: 2.9026 - accuracy: 0.2805 - val_loss: 2.3569 - val_accuracy: 0.3990\n",
            "Epoch 5/50\n",
            "391/391 [==============================] - 17s 43ms/step - loss: 2.5953 - accuracy: 0.3401 - val_loss: 2.2557 - val_accuracy: 0.4074\n",
            "Epoch 6/50\n",
            "391/391 [==============================] - 17s 43ms/step - loss: 2.3605 - accuracy: 0.3860 - val_loss: 2.1049 - val_accuracy: 0.4481\n",
            "Epoch 7/50\n",
            "391/391 [==============================] - 17s 43ms/step - loss: 2.2192 - accuracy: 0.4167 - val_loss: 2.0859 - val_accuracy: 0.4555\n",
            "Epoch 8/50\n",
            "391/391 [==============================] - 17s 43ms/step - loss: 2.0621 - accuracy: 0.4520 - val_loss: 2.0025 - val_accuracy: 0.4652\n",
            "Epoch 9/50\n",
            "391/391 [==============================] - 17s 43ms/step - loss: 1.9260 - accuracy: 0.4833 - val_loss: 1.9530 - val_accuracy: 0.4803\n",
            "Epoch 10/50\n",
            "391/391 [==============================] - 17s 43ms/step - loss: 1.8147 - accuracy: 0.5107 - val_loss: 1.8753 - val_accuracy: 0.4969\n",
            "Epoch 11/50\n",
            "391/391 [==============================] - 17s 43ms/step - loss: 1.7117 - accuracy: 0.5328 - val_loss: 1.7828 - val_accuracy: 0.5209\n",
            "Epoch 12/50\n",
            "391/391 [==============================] - 17s 43ms/step - loss: 1.6169 - accuracy: 0.5588 - val_loss: 1.7317 - val_accuracy: 0.5338\n",
            "Epoch 13/50\n",
            "391/391 [==============================] - 17s 43ms/step - loss: 1.5025 - accuracy: 0.5808 - val_loss: 1.6899 - val_accuracy: 0.5473\n",
            "Epoch 14/50\n",
            "391/391 [==============================] - 17s 43ms/step - loss: 1.4052 - accuracy: 0.6050 - val_loss: 1.7799 - val_accuracy: 0.5240\n",
            "Epoch 15/50\n",
            "391/391 [==============================] - 17s 43ms/step - loss: 1.3230 - accuracy: 0.6226 - val_loss: 1.6996 - val_accuracy: 0.5501\n",
            "Epoch 16/50\n",
            "391/391 [==============================] - 17s 43ms/step - loss: 1.2419 - accuracy: 0.6471 - val_loss: 1.7136 - val_accuracy: 0.5432\n",
            "Epoch 17/50\n",
            "391/391 [==============================] - 17s 43ms/step - loss: 1.1608 - accuracy: 0.6641 - val_loss: 1.7679 - val_accuracy: 0.5420\n",
            "Epoch 18/50\n",
            "391/391 [==============================] - 17s 43ms/step - loss: 1.0882 - accuracy: 0.6885 - val_loss: 1.8114 - val_accuracy: 0.5477\n",
            "Epoch 00018: early stopping\n",
            "313/313 [==============================] - 1s 2ms/step - loss: 3.0390 - accuracy: 0.2543\n"
          ],
          "name": "stdout"
        }
      ]
    },
    {
      "cell_type": "code",
      "metadata": {
        "colab": {
          "base_uri": "https://localhost:8080/",
          "height": 324
        },
        "id": "clBPWU-7tobK",
        "outputId": "6886d895-c57a-4539-a263-7516c8280ee2"
      },
      "source": [
        "import matplotlib.pyplot as plt\n",
        "plt.figure(figsize=(10,5))\n",
        "colours = 'krgby'\n",
        "for i in range(5):\n",
        "  plt.plot(accuracy[i][1],marker='.',c=colours[i],label=str(i+1)+\"-fold\")\n",
        "  plt.plot(accuracy[i][2],marker='.',c=colours[i])\n",
        "plt.ylim(0,1.0)\n",
        "plt.grid()\n",
        "plt.legend();"
      ],
      "execution_count": 23,
      "outputs": [
        {
          "output_type": "display_data",
          "data": {
            "image/png": "[encoded data removed]",
            "text/plain": [
              "<Figure size 720x360 with 1 Axes>"
            ]
          },
          "metadata": {
            "tags": [],
            "needs_background": "light"
          }
        }
      ]
    },
    {
      "cell_type": "markdown",
      "metadata": {
        "id": "PXYWk_m35r-Z"
      },
      "source": [
        "5fold CV를 진행한 결과, 5fold 모두 비슷하게 진행되었고모두 안정적으로 0.6이 안되는 accuracy에 수렴하였습니다."
      ]
    }
  ]
}